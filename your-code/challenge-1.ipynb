{
 "cells": [
  {
   "cell_type": "code",
   "execution_count": 3,
   "metadata": {},
   "outputs": [],
   "source": [
    "import json\n",
    "import requests as req"
   ]
  },
  {
   "cell_type": "markdown",
   "metadata": {},
   "source": [
    "Only if you're using your environmental variable eith the `.env` file, import/install the following modules. Otherwise it is not necessary:\n",
    "\n",
    "https://pypi.org/project/python-dotenv/"
   ]
  },
  {
   "cell_type": "code",
   "execution_count": 2,
   "metadata": {},
   "outputs": [],
   "source": [
    "import os\n",
    "#from dotenv import load_dotenv"
   ]
  },
  {
   "cell_type": "code",
   "execution_count": null,
   "metadata": {},
   "outputs": [],
   "source": [
    "#pip install python-dotenv"
   ]
  },
  {
   "cell_type": "code",
   "execution_count": 7,
   "metadata": {},
   "outputs": [
    {
     "data": {
      "text/plain": [
       "True"
      ]
     },
     "execution_count": 7,
     "metadata": {},
     "output_type": "execute_result"
    }
   ],
   "source": [
    "#load_dotenv()"
   ]
  },
  {
   "cell_type": "code",
   "execution_count": 5,
   "metadata": {},
   "outputs": [],
   "source": [
    "github = os.getenv(\"token\")"
   ]
  },
  {
   "cell_type": "markdown",
   "metadata": {},
   "source": [
    "# Challenge 1: Fork Languages\n",
    "\n",
    "You will find out how many programming languages are used among all the forks created from the main lab repo of your bootcamp. Assuming the main lab repo is ironhack-datalabs/datamad1020-rev, you will:\n",
    "\n",
    "1. Obtain the full list of forks created from the main lab repo via Github API.\n",
    "\n",
    "2. Loop the JSON response to find out the language attribute of each fork. Use an array to store the language attributes of each fork.\n",
    "\n",
    "Hint: Each language should appear only once in your array.\n",
    "\n",
    "3. Print the language array. It should be something like:\n",
    "\n",
    "[\"Python\", \"Jupyter Notebook\", \"HTML\"]\n"
   ]
  },
  {
   "cell_type": "markdown",
   "metadata": {},
   "source": [
    "**HINT:**: Create a list with every **language_url** you find in every fork "
   ]
  },
  {
   "cell_type": "markdown",
   "metadata": {},
   "source": [
    "⚠️ **Remember to limit your output before submission**."
   ]
  },
  {
   "cell_type": "code",
   "execution_count": 10,
   "metadata": {},
   "outputs": [
    {
     "data": {
      "text/plain": [
       "{'current_user_url': 'https://api.github.com/user',\n",
       " 'current_user_authorizations_html_url': 'https://github.com/settings/connections/applications{/client_id}',\n",
       " 'authorizations_url': 'https://api.github.com/authorizations',\n",
       " 'code_search_url': 'https://api.github.com/search/code?q={query}{&page,per_page,sort,order}',\n",
       " 'commit_search_url': 'https://api.github.com/search/commits?q={query}{&page,per_page,sort,order}',\n",
       " 'emails_url': 'https://api.github.com/user/emails',\n",
       " 'emojis_url': 'https://api.github.com/emojis',\n",
       " 'events_url': 'https://api.github.com/events',\n",
       " 'feeds_url': 'https://api.github.com/feeds',\n",
       " 'followers_url': 'https://api.github.com/user/followers',\n",
       " 'following_url': 'https://api.github.com/user/following{/target}',\n",
       " 'gists_url': 'https://api.github.com/gists{/gist_id}',\n",
       " 'hub_url': 'https://api.github.com/hub',\n",
       " 'issue_search_url': 'https://api.github.com/search/issues?q={query}{&page,per_page,sort,order}',\n",
       " 'issues_url': 'https://api.github.com/issues',\n",
       " 'keys_url': 'https://api.github.com/user/keys',\n",
       " 'label_search_url': 'https://api.github.com/search/labels?q={query}&repository_id={repository_id}{&page,per_page}',\n",
       " 'notifications_url': 'https://api.github.com/notifications',\n",
       " 'organization_url': 'https://api.github.com/orgs/{org}',\n",
       " 'organization_repositories_url': 'https://api.github.com/orgs/{org}/repos{?type,page,per_page,sort}',\n",
       " 'organization_teams_url': 'https://api.github.com/orgs/{org}/teams',\n",
       " 'public_gists_url': 'https://api.github.com/gists/public',\n",
       " 'rate_limit_url': 'https://api.github.com/rate_limit',\n",
       " 'repository_url': 'https://api.github.com/repos/{owner}/{repo}',\n",
       " 'repository_search_url': 'https://api.github.com/search/repositories?q={query}{&page,per_page,sort,order}',\n",
       " 'current_user_repositories_url': 'https://api.github.com/user/repos{?type,page,per_page,sort}',\n",
       " 'starred_url': 'https://api.github.com/user/starred{/owner}{/repo}',\n",
       " 'starred_gists_url': 'https://api.github.com/gists/starred',\n",
       " 'topic_search_url': 'https://api.github.com/search/topics?q={query}{&page,per_page}',\n",
       " 'user_url': 'https://api.github.com/users/{user}',\n",
       " 'user_organizations_url': 'https://api.github.com/user/orgs',\n",
       " 'user_repositories_url': 'https://api.github.com/users/{user}/repos{?type,page,per_page,sort}',\n",
       " 'user_search_url': 'https://api.github.com/search/users?q={query}{&page,per_page,sort,order}'}"
      ]
     },
     "execution_count": 10,
     "metadata": {},
     "output_type": "execute_result"
    }
   ],
   "source": [
    "with open('../password.txt', 'r') as file:\n",
    "    pass_=file.read()\n",
    "    \n",
    "url='https://api.github.com/'\n",
    "    \n",
    "header={'Authorization': pass_}\n",
    "\n",
    "res=req.get(url, headers=header)\n",
    "\n",
    "res.json()\n",
    "\n"
   ]
  },
  {
   "cell_type": "code",
   "execution_count": 22,
   "metadata": {},
   "outputs": [
    {
     "data": {
      "text/plain": [
       "{'total_count': 1,\n",
       " 'incomplete_results': False,\n",
       " 'items': [{'id': 304248539,\n",
       "   'node_id': 'MDEwOlJlcG9zaXRvcnkzMDQyNDg1Mzk=',\n",
       "   'name': 'datamad1020-rev',\n",
       "   'full_name': 'ironhack-datalabs/datamad1020-rev',\n",
       "   'private': False,\n",
       "   'owner': {'login': 'ironhack-datalabs',\n",
       "    'id': 44225188,\n",
       "    'node_id': 'MDEyOk9yZ2FuaXphdGlvbjQ0MjI1MTg4',\n",
       "    'avatar_url': 'https://avatars.githubusercontent.com/u/44225188?v=4',\n",
       "    'gravatar_id': '',\n",
       "    'url': 'https://api.github.com/users/ironhack-datalabs',\n",
       "    'html_url': 'https://github.com/ironhack-datalabs',\n",
       "    'followers_url': 'https://api.github.com/users/ironhack-datalabs/followers',\n",
       "    'following_url': 'https://api.github.com/users/ironhack-datalabs/following{/other_user}',\n",
       "    'gists_url': 'https://api.github.com/users/ironhack-datalabs/gists{/gist_id}',\n",
       "    'starred_url': 'https://api.github.com/users/ironhack-datalabs/starred{/owner}{/repo}',\n",
       "    'subscriptions_url': 'https://api.github.com/users/ironhack-datalabs/subscriptions',\n",
       "    'organizations_url': 'https://api.github.com/users/ironhack-datalabs/orgs',\n",
       "    'repos_url': 'https://api.github.com/users/ironhack-datalabs/repos',\n",
       "    'events_url': 'https://api.github.com/users/ironhack-datalabs/events{/privacy}',\n",
       "    'received_events_url': 'https://api.github.com/users/ironhack-datalabs/received_events',\n",
       "    'type': 'Organization',\n",
       "    'site_admin': False},\n",
       "   'html_url': 'https://github.com/ironhack-datalabs/datamad1020-rev',\n",
       "   'description': None,\n",
       "   'fork': False,\n",
       "   'url': 'https://api.github.com/repos/ironhack-datalabs/datamad1020-rev',\n",
       "   'forks_url': 'https://api.github.com/repos/ironhack-datalabs/datamad1020-rev/forks',\n",
       "   'keys_url': 'https://api.github.com/repos/ironhack-datalabs/datamad1020-rev/keys{/key_id}',\n",
       "   'collaborators_url': 'https://api.github.com/repos/ironhack-datalabs/datamad1020-rev/collaborators{/collaborator}',\n",
       "   'teams_url': 'https://api.github.com/repos/ironhack-datalabs/datamad1020-rev/teams',\n",
       "   'hooks_url': 'https://api.github.com/repos/ironhack-datalabs/datamad1020-rev/hooks',\n",
       "   'issue_events_url': 'https://api.github.com/repos/ironhack-datalabs/datamad1020-rev/issues/events{/number}',\n",
       "   'events_url': 'https://api.github.com/repos/ironhack-datalabs/datamad1020-rev/events',\n",
       "   'assignees_url': 'https://api.github.com/repos/ironhack-datalabs/datamad1020-rev/assignees{/user}',\n",
       "   'branches_url': 'https://api.github.com/repos/ironhack-datalabs/datamad1020-rev/branches{/branch}',\n",
       "   'tags_url': 'https://api.github.com/repos/ironhack-datalabs/datamad1020-rev/tags',\n",
       "   'blobs_url': 'https://api.github.com/repos/ironhack-datalabs/datamad1020-rev/git/blobs{/sha}',\n",
       "   'git_tags_url': 'https://api.github.com/repos/ironhack-datalabs/datamad1020-rev/git/tags{/sha}',\n",
       "   'git_refs_url': 'https://api.github.com/repos/ironhack-datalabs/datamad1020-rev/git/refs{/sha}',\n",
       "   'trees_url': 'https://api.github.com/repos/ironhack-datalabs/datamad1020-rev/git/trees{/sha}',\n",
       "   'statuses_url': 'https://api.github.com/repos/ironhack-datalabs/datamad1020-rev/statuses/{sha}',\n",
       "   'languages_url': 'https://api.github.com/repos/ironhack-datalabs/datamad1020-rev/languages',\n",
       "   'stargazers_url': 'https://api.github.com/repos/ironhack-datalabs/datamad1020-rev/stargazers',\n",
       "   'contributors_url': 'https://api.github.com/repos/ironhack-datalabs/datamad1020-rev/contributors',\n",
       "   'subscribers_url': 'https://api.github.com/repos/ironhack-datalabs/datamad1020-rev/subscribers',\n",
       "   'subscription_url': 'https://api.github.com/repos/ironhack-datalabs/datamad1020-rev/subscription',\n",
       "   'commits_url': 'https://api.github.com/repos/ironhack-datalabs/datamad1020-rev/commits{/sha}',\n",
       "   'git_commits_url': 'https://api.github.com/repos/ironhack-datalabs/datamad1020-rev/git/commits{/sha}',\n",
       "   'comments_url': 'https://api.github.com/repos/ironhack-datalabs/datamad1020-rev/comments{/number}',\n",
       "   'issue_comment_url': 'https://api.github.com/repos/ironhack-datalabs/datamad1020-rev/issues/comments{/number}',\n",
       "   'contents_url': 'https://api.github.com/repos/ironhack-datalabs/datamad1020-rev/contents/{+path}',\n",
       "   'compare_url': 'https://api.github.com/repos/ironhack-datalabs/datamad1020-rev/compare/{base}...{head}',\n",
       "   'merges_url': 'https://api.github.com/repos/ironhack-datalabs/datamad1020-rev/merges',\n",
       "   'archive_url': 'https://api.github.com/repos/ironhack-datalabs/datamad1020-rev/{archive_format}{/ref}',\n",
       "   'downloads_url': 'https://api.github.com/repos/ironhack-datalabs/datamad1020-rev/downloads',\n",
       "   'issues_url': 'https://api.github.com/repos/ironhack-datalabs/datamad1020-rev/issues{/number}',\n",
       "   'pulls_url': 'https://api.github.com/repos/ironhack-datalabs/datamad1020-rev/pulls{/number}',\n",
       "   'milestones_url': 'https://api.github.com/repos/ironhack-datalabs/datamad1020-rev/milestones{/number}',\n",
       "   'notifications_url': 'https://api.github.com/repos/ironhack-datalabs/datamad1020-rev/notifications{?since,all,participating}',\n",
       "   'labels_url': 'https://api.github.com/repos/ironhack-datalabs/datamad1020-rev/labels{/name}',\n",
       "   'releases_url': 'https://api.github.com/repos/ironhack-datalabs/datamad1020-rev/releases{/id}',\n",
       "   'deployments_url': 'https://api.github.com/repos/ironhack-datalabs/datamad1020-rev/deployments',\n",
       "   'created_at': '2020-10-15T07:44:09Z',\n",
       "   'updated_at': '2022-07-21T16:02:51Z',\n",
       "   'pushed_at': '2022-07-21T16:02:45Z',\n",
       "   'git_url': 'git://github.com/ironhack-datalabs/datamad1020-rev.git',\n",
       "   'ssh_url': 'git@github.com:ironhack-datalabs/datamad1020-rev.git',\n",
       "   'clone_url': 'https://github.com/ironhack-datalabs/datamad1020-rev.git',\n",
       "   'svn_url': 'https://github.com/ironhack-datalabs/datamad1020-rev',\n",
       "   'homepage': None,\n",
       "   'size': 164268,\n",
       "   'stargazers_count': 1,\n",
       "   'watchers_count': 1,\n",
       "   'language': 'Jupyter Notebook',\n",
       "   'has_issues': True,\n",
       "   'has_projects': True,\n",
       "   'has_downloads': True,\n",
       "   'has_wiki': True,\n",
       "   'has_pages': False,\n",
       "   'forks_count': 26,\n",
       "   'mirror_url': None,\n",
       "   'archived': False,\n",
       "   'disabled': False,\n",
       "   'open_issues_count': 0,\n",
       "   'license': {'key': 'agpl-3.0',\n",
       "    'name': 'GNU Affero General Public License v3.0',\n",
       "    'spdx_id': 'AGPL-3.0',\n",
       "    'url': 'https://api.github.com/licenses/agpl-3.0',\n",
       "    'node_id': 'MDc6TGljZW5zZTE='},\n",
       "   'allow_forking': True,\n",
       "   'is_template': False,\n",
       "   'web_commit_signoff_required': False,\n",
       "   'topics': [],\n",
       "   'visibility': 'public',\n",
       "   'forks': 26,\n",
       "   'open_issues': 0,\n",
       "   'watchers': 1,\n",
       "   'default_branch': 'master',\n",
       "   'score': 1.0}]}"
      ]
     },
     "execution_count": 22,
     "metadata": {},
     "output_type": "execute_result"
    }
   ],
   "source": [
    "url='https://api.github.com/search/repositories?q=ironhack-datalabs/datamad1020-rev'\n",
    "\n",
    "res=req.get(url, headers=header)\n",
    "\n",
    "res.json()"
   ]
  },
  {
   "cell_type": "code",
   "execution_count": 32,
   "metadata": {},
   "outputs": [
    {
     "data": {
      "text/plain": [
       "['Jupyter Notebook', 'HTML', 'Python']"
      ]
     },
     "execution_count": 32,
     "metadata": {},
     "output_type": "execute_result"
    }
   ],
   "source": [
    "url='https://api.github.com/repos/ironhack-datalabs/datamad1020-rev/languages'\n",
    "\n",
    "res=req.get(url, headers=header)\n",
    "\n",
    "languages=list(res.json().keys())\n",
    "languages"
   ]
  },
  {
   "cell_type": "code",
   "execution_count": 29,
   "metadata": {},
   "outputs": [],
   "source": [
    "url='https://api.github.com/repos/ironhack-datalabs/datamad1020-rev/forks'\n",
    "res=req.get(url, headers=header)\n",
    "\n",
    "fork=res.json()"
   ]
  },
  {
   "cell_type": "code",
   "execution_count": 45,
   "metadata": {},
   "outputs": [],
   "source": [
    "'''for i in fork:\n",
    "    print('i es',i)'''\n",
    "   \n",
    "url= 'https://api.github.com/repos/ironhack-datalabs/datamad1020-rev/languages'\n",
    "    \n",
    "posiciones=[]\n",
    "\n",
    "for i in fork:\n",
    "    \n",
    "    res_iss=req.get(url,headers=header)\n",
    "    \n",
    "    data=res_iss.json()\n",
    "    \n",
    "    posiciones.append(data)\n",
    "    \n",
    "\n",
    "    \n",
    "    "
   ]
  },
  {
   "cell_type": "code",
   "execution_count": 54,
   "metadata": {},
   "outputs": [
    {
     "data": {
      "text/plain": [
       "['Python', 'HTML', 'Jupyter Notebook']"
      ]
     },
     "execution_count": 54,
     "metadata": {},
     "output_type": "execute_result"
    }
   ],
   "source": [
    "lenguajes=[]\n",
    "\n",
    "for i in posiciones:\n",
    "    for j in i.keys():\n",
    "        lenguajes.append(j)\n",
    "        \n",
    "lenguajes=list(set(lenguajes))\n",
    "lenguajes"
   ]
  }
 ],
 "metadata": {
  "kernelspec": {
   "display_name": "Python 3.9.12 ('base')",
   "language": "python",
   "name": "python3"
  },
  "language_info": {
   "codemirror_mode": {
    "name": "ipython",
    "version": 3
   },
   "file_extension": ".py",
   "mimetype": "text/x-python",
   "name": "python",
   "nbconvert_exporter": "python",
   "pygments_lexer": "ipython3",
   "version": "3.9.12"
  },
  "toc": {
   "base_numbering": 1,
   "nav_menu": {},
   "number_sections": true,
   "sideBar": true,
   "skip_h1_title": true,
   "title_cell": "Table of Contents",
   "title_sidebar": "Contents",
   "toc_cell": false,
   "toc_position": {},
   "toc_section_display": true,
   "toc_window_display": false
  },
  "vscode": {
   "interpreter": {
    "hash": "1551151381e773f0aad4d7f5dd85d557969b09f98d8f1647db122078155b292b"
   }
  }
 },
 "nbformat": 4,
 "nbformat_minor": 2
}
