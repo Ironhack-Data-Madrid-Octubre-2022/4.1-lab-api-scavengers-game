{
 "cells": [
  {
   "cell_type": "markdown",
   "metadata": {},
   "source": [
    "# Challenge 2: Count Commits\n",
    "\n",
    "Count how many commits were made in the past week.\n",
    "\n",
    "Obtain all the commits made in the past week via API, which is a JSON array that contains multiple commit objects.\n",
    "\n",
    "Count how many commit objects are contained in the array."
   ]
  },
  {
   "cell_type": "markdown",
   "metadata": {},
   "source": [
    "⚠️ **Remember to limit your output before submission**."
   ]
  },
  {
   "cell_type": "code",
   "execution_count": 156,
   "metadata": {},
   "outputs": [],
   "source": [
    "import json\n",
    "import requests as req"
   ]
  },
  {
   "cell_type": "code",
   "execution_count": 157,
   "metadata": {},
   "outputs": [],
   "source": [
    "# Example: print(variable[:10]) "
   ]
  },
  {
   "cell_type": "code",
   "execution_count": 158,
   "metadata": {},
   "outputs": [],
   "source": [
    "url='https://api.github.com/repos/Ironhack-Data-Madrid-Octubre-2022/apuntes_clase'"
   ]
  },
  {
   "cell_type": "code",
   "execution_count": 159,
   "metadata": {},
   "outputs": [],
   "source": [
    "with open(r'C:\\Users\\david\\OneDrive\\Escritorio\\semana 4\\lunes\\4.1-lab-api-scavengers-game\\pass.txt', 'r') as file:\n",
    "    pass_=file.read()"
   ]
  },
  {
   "cell_type": "code",
   "execution_count": 160,
   "metadata": {},
   "outputs": [],
   "source": [
    "header={'Authoriation': 'token ' + pass_}\n",
    "res=req.get(url, headers=header)"
   ]
  },
  {
   "cell_type": "code",
   "execution_count": 161,
   "metadata": {},
   "outputs": [
    {
     "ename": "KeyError",
     "evalue": "'commits_url'",
     "output_type": "error",
     "traceback": [
      "\u001b[1;31m---------------------------------------------------------------------------\u001b[0m",
      "\u001b[1;31mKeyError\u001b[0m                                  Traceback (most recent call last)",
      "\u001b[1;32m<ipython-input-161-0a018cf5178b>\u001b[0m in \u001b[0;36m<module>\u001b[1;34m\u001b[0m\n\u001b[1;32m----> 1\u001b[1;33m \u001b[0mcomm\u001b[0m\u001b[1;33m=\u001b[0m\u001b[0mres\u001b[0m\u001b[1;33m.\u001b[0m\u001b[0mjson\u001b[0m\u001b[1;33m(\u001b[0m\u001b[1;33m)\u001b[0m\u001b[1;33m[\u001b[0m\u001b[1;34m'commits_url'\u001b[0m\u001b[1;33m]\u001b[0m\u001b[1;33m\u001b[0m\u001b[1;33m\u001b[0m\u001b[0m\n\u001b[0m",
      "\u001b[1;31mKeyError\u001b[0m: 'commits_url'"
     ]
    }
   ],
   "source": [
    "comm=res.json()['commits_url']"
   ]
  },
  {
   "cell_type": "code",
   "execution_count": 162,
   "metadata": {},
   "outputs": [
    {
     "data": {
      "text/plain": [
       "'https://api.github.com/repos/Ironhack-Data-Madrid-Octubre-2022/apuntes_clase/commits'"
      ]
     },
     "execution_count": 162,
     "metadata": {},
     "output_type": "execute_result"
    }
   ],
   "source": [
    "comm"
   ]
  },
  {
   "cell_type": "code",
   "execution_count": 163,
   "metadata": {},
   "outputs": [],
   "source": [
    "comm = comm[:-6]"
   ]
  },
  {
   "cell_type": "code",
   "execution_count": 164,
   "metadata": {},
   "outputs": [],
   "source": [
    "url2=req.get(comm, headers=header)"
   ]
  },
  {
   "cell_type": "code",
   "execution_count": 165,
   "metadata": {},
   "outputs": [
    {
     "data": {
      "text/plain": [
       "2"
      ]
     },
     "execution_count": 165,
     "metadata": {},
     "output_type": "execute_result"
    }
   ],
   "source": [
    "len(url2.json())"
   ]
  },
  {
   "cell_type": "code",
   "execution_count": 166,
   "metadata": {},
   "outputs": [],
   "source": [
    "aux=url2.json()"
   ]
  },
  {
   "cell_type": "code",
   "execution_count": 167,
   "metadata": {},
   "outputs": [
    {
     "ename": "TypeError",
     "evalue": "string indices must be integers",
     "output_type": "error",
     "traceback": [
      "\u001b[1;31m---------------------------------------------------------------------------\u001b[0m",
      "\u001b[1;31mTypeError\u001b[0m                                 Traceback (most recent call last)",
      "\u001b[1;32m<ipython-input-167-66c96a8960ff>\u001b[0m in \u001b[0;36m<module>\u001b[1;34m\u001b[0m\n\u001b[0;32m      3\u001b[0m \u001b[0mlistito\u001b[0m\u001b[1;33m=\u001b[0m\u001b[1;33m[\u001b[0m\u001b[1;33m]\u001b[0m\u001b[1;33m\u001b[0m\u001b[1;33m\u001b[0m\u001b[0m\n\u001b[0;32m      4\u001b[0m \u001b[1;32mfor\u001b[0m \u001b[0mx\u001b[0m \u001b[1;32min\u001b[0m \u001b[0maux\u001b[0m\u001b[1;33m:\u001b[0m\u001b[1;33m\u001b[0m\u001b[1;33m\u001b[0m\u001b[0m\n\u001b[1;32m----> 5\u001b[1;33m     \u001b[1;32mif\u001b[0m \u001b[0mx\u001b[0m\u001b[1;33m[\u001b[0m\u001b[1;34m'commit'\u001b[0m\u001b[1;33m]\u001b[0m\u001b[1;33m[\u001b[0m\u001b[1;34m'author'\u001b[0m\u001b[1;33m]\u001b[0m\u001b[1;33m[\u001b[0m\u001b[1;34m'date'\u001b[0m\u001b[1;33m]\u001b[0m \u001b[1;33m>=\u001b[0m \u001b[1;34m'2022-11-01'\u001b[0m\u001b[1;33m:\u001b[0m\u001b[1;33m\u001b[0m\u001b[1;33m\u001b[0m\u001b[0m\n\u001b[0m\u001b[0;32m      6\u001b[0m         \u001b[0mlistita\u001b[0m\u001b[1;33m.\u001b[0m\u001b[0mappend\u001b[0m\u001b[1;33m(\u001b[0m\u001b[0mx\u001b[0m\u001b[1;33m[\u001b[0m\u001b[1;34m'commit'\u001b[0m\u001b[1;33m]\u001b[0m\u001b[1;33m[\u001b[0m\u001b[1;34m'author'\u001b[0m\u001b[1;33m]\u001b[0m\u001b[1;33m[\u001b[0m\u001b[1;34m'date'\u001b[0m\u001b[1;33m]\u001b[0m\u001b[1;33m)\u001b[0m\u001b[1;33m\u001b[0m\u001b[1;33m\u001b[0m\u001b[0m\n\u001b[0;32m      7\u001b[0m         \u001b[0mlistito\u001b[0m\u001b[1;33m.\u001b[0m\u001b[0mappend\u001b[0m\u001b[1;33m(\u001b[0m\u001b[0mx\u001b[0m\u001b[1;33m[\u001b[0m\u001b[1;34m'commit'\u001b[0m\u001b[1;33m]\u001b[0m\u001b[1;33m)\u001b[0m\u001b[1;33m\u001b[0m\u001b[1;33m\u001b[0m\u001b[0m\n",
      "\u001b[1;31mTypeError\u001b[0m: string indices must be integers"
     ]
    }
   ],
   "source": [
    "cont = 0\n",
    "listita = []\n",
    "listito=[]\n",
    "for x in aux:\n",
    "    if x['commit']['author']['date'] >= '2022-11-01':\n",
    "        listita.append(x['commit']['author']['date'])\n",
    "        listito.append(x['commit'])"
   ]
  },
  {
   "cell_type": "code",
   "execution_count": 148,
   "metadata": {},
   "outputs": [
    {
     "data": {
      "text/plain": [
       "16"
      ]
     },
     "execution_count": 148,
     "metadata": {},
     "output_type": "execute_result"
    }
   ],
   "source": [
    "len(listita)"
   ]
  },
  {
   "cell_type": "code",
   "execution_count": 149,
   "metadata": {},
   "outputs": [
    {
     "data": {
      "text/plain": [
       "[{'author': {'name': 'YonatanRA',\n",
       "   'email': 'yeho@mail.com',\n",
       "   'date': '2022-11-07T11:13:39Z'},\n",
       "  'committer': {'name': 'YonatanRA',\n",
       "   'email': 'yeho@mail.com',\n",
       "   'date': '2022-11-07T11:13:39Z'},\n",
       "  'message': 'flask',\n",
       "  'tree': {'sha': '10c67cd8a7c4b28c46544a76bf8573bf5e5a3049',\n",
       "   'url': 'https://api.github.com/repos/Ironhack-Data-Madrid-Octubre-2022/apuntes_clase/git/trees/10c67cd8a7c4b28c46544a76bf8573bf5e5a3049'},\n",
       "  'url': 'https://api.github.com/repos/Ironhack-Data-Madrid-Octubre-2022/apuntes_clase/git/commits/034ebe77b9da0a6af7ae3db558978cebe96731d9',\n",
       "  'comment_count': 0,\n",
       "  'verification': {'verified': False,\n",
       "   'reason': 'unsigned',\n",
       "   'signature': None,\n",
       "   'payload': None}},\n",
       " {'author': {'name': 'YonatanRA',\n",
       "   'email': 'yeho@mail.com',\n",
       "   'date': '2022-11-07T08:54:15Z'},\n",
       "  'committer': {'name': 'YonatanRA',\n",
       "   'email': 'yeho@mail.com',\n",
       "   'date': '2022-11-07T08:54:15Z'},\n",
       "  'message': 'apis',\n",
       "  'tree': {'sha': 'e20c0ab6c656dcaecf785dc95b927863df401a6a',\n",
       "   'url': 'https://api.github.com/repos/Ironhack-Data-Madrid-Octubre-2022/apuntes_clase/git/trees/e20c0ab6c656dcaecf785dc95b927863df401a6a'},\n",
       "  'url': 'https://api.github.com/repos/Ironhack-Data-Madrid-Octubre-2022/apuntes_clase/git/commits/1b5671abfde834396ac57d6ee1099dd8ae4943ef',\n",
       "  'comment_count': 0,\n",
       "  'verification': {'verified': False,\n",
       "   'reason': 'unsigned',\n",
       "   'signature': None,\n",
       "   'payload': None}},\n",
       " {'author': {'name': 'YonatanRA',\n",
       "   'email': 'yeho@mail.com',\n",
       "   'date': '2022-11-07T08:00:41Z'},\n",
       "  'committer': {'name': 'YonatanRA',\n",
       "   'email': 'yeho@mail.com',\n",
       "   'date': '2022-11-07T08:00:41Z'},\n",
       "  'message': 'apis',\n",
       "  'tree': {'sha': '7fc37570dc553658121beccc33cd8e9419c97f40',\n",
       "   'url': 'https://api.github.com/repos/Ironhack-Data-Madrid-Octubre-2022/apuntes_clase/git/trees/7fc37570dc553658121beccc33cd8e9419c97f40'},\n",
       "  'url': 'https://api.github.com/repos/Ironhack-Data-Madrid-Octubre-2022/apuntes_clase/git/commits/d1a08d9a4b6e9aa41c5b15c84cc0a2167f625435',\n",
       "  'comment_count': 0,\n",
       "  'verification': {'verified': False,\n",
       "   'reason': 'unsigned',\n",
       "   'signature': None,\n",
       "   'payload': None}},\n",
       " {'author': {'name': 'YonatanRA',\n",
       "   'email': 'yeho@mail.com',\n",
       "   'date': '2022-11-03T11:48:51Z'},\n",
       "  'committer': {'name': 'YonatanRA',\n",
       "   'email': 'yeho@mail.com',\n",
       "   'date': '2022-11-03T11:48:51Z'},\n",
       "  'message': 'mongo',\n",
       "  'tree': {'sha': 'ddf4e047ce54452d13e1613bbf8f3895fbfa2cd1',\n",
       "   'url': 'https://api.github.com/repos/Ironhack-Data-Madrid-Octubre-2022/apuntes_clase/git/trees/ddf4e047ce54452d13e1613bbf8f3895fbfa2cd1'},\n",
       "  'url': 'https://api.github.com/repos/Ironhack-Data-Madrid-Octubre-2022/apuntes_clase/git/commits/a0394a86db2f7f18754218fb0368158786bb55a6',\n",
       "  'comment_count': 0,\n",
       "  'verification': {'verified': False,\n",
       "   'reason': 'unsigned',\n",
       "   'signature': None,\n",
       "   'payload': None}},\n",
       " {'author': {'name': 'YonatanRA',\n",
       "   'email': 'yeho@mail.com',\n",
       "   'date': '2022-11-03T10:02:58Z'},\n",
       "  'committer': {'name': 'YonatanRA',\n",
       "   'email': 'yeho@mail.com',\n",
       "   'date': '2022-11-03T10:02:58Z'},\n",
       "  'message': 'mongo',\n",
       "  'tree': {'sha': 'd794e3093894bd1bef3b69569e50cc1ba7fc4d1b',\n",
       "   'url': 'https://api.github.com/repos/Ironhack-Data-Madrid-Octubre-2022/apuntes_clase/git/trees/d794e3093894bd1bef3b69569e50cc1ba7fc4d1b'},\n",
       "  'url': 'https://api.github.com/repos/Ironhack-Data-Madrid-Octubre-2022/apuntes_clase/git/commits/07bfdacf852a3e496318d571eb1521cd5174dfde',\n",
       "  'comment_count': 0,\n",
       "  'verification': {'verified': False,\n",
       "   'reason': 'unsigned',\n",
       "   'signature': None,\n",
       "   'payload': None}},\n",
       " {'author': {'name': 'YonatanRA',\n",
       "   'email': 'yeho@mail.com',\n",
       "   'date': '2022-11-03T08:55:20Z'},\n",
       "  'committer': {'name': 'YonatanRA',\n",
       "   'email': 'yeho@mail.com',\n",
       "   'date': '2022-11-03T08:55:20Z'},\n",
       "  'message': 'mongo',\n",
       "  'tree': {'sha': 'a2780e3269b41c48bdbf7a6c79807db8da8dc7bd',\n",
       "   'url': 'https://api.github.com/repos/Ironhack-Data-Madrid-Octubre-2022/apuntes_clase/git/trees/a2780e3269b41c48bdbf7a6c79807db8da8dc7bd'},\n",
       "  'url': 'https://api.github.com/repos/Ironhack-Data-Madrid-Octubre-2022/apuntes_clase/git/commits/2fcf1daa78838e1ba063f452078cf98e46f2bebf',\n",
       "  'comment_count': 0,\n",
       "  'verification': {'verified': False,\n",
       "   'reason': 'unsigned',\n",
       "   'signature': None,\n",
       "   'payload': None}},\n",
       " {'author': {'name': 'YonatanRA',\n",
       "   'email': 'yeho@mail.com',\n",
       "   'date': '2022-11-03T08:05:35Z'},\n",
       "  'committer': {'name': 'YonatanRA',\n",
       "   'email': 'yeho@mail.com',\n",
       "   'date': '2022-11-03T08:05:35Z'},\n",
       "  'message': 'mongo',\n",
       "  'tree': {'sha': 'f02ab7cf242d1a714d97bce32bc139848cf5aa87',\n",
       "   'url': 'https://api.github.com/repos/Ironhack-Data-Madrid-Octubre-2022/apuntes_clase/git/trees/f02ab7cf242d1a714d97bce32bc139848cf5aa87'},\n",
       "  'url': 'https://api.github.com/repos/Ironhack-Data-Madrid-Octubre-2022/apuntes_clase/git/commits/29e0aba0bad1448415adafce106f1eb12e101dc9',\n",
       "  'comment_count': 0,\n",
       "  'verification': {'verified': False,\n",
       "   'reason': 'unsigned',\n",
       "   'signature': None,\n",
       "   'payload': None}},\n",
       " {'author': {'name': 'YonatanRA',\n",
       "   'email': 'yeho@mail.com',\n",
       "   'date': '2022-11-02T11:29:21Z'},\n",
       "  'committer': {'name': 'YonatanRA',\n",
       "   'email': 'yeho@mail.com',\n",
       "   'date': '2022-11-02T11:29:21Z'},\n",
       "  'message': 'postgresql',\n",
       "  'tree': {'sha': '167decfacc2efc82b72ab4a245558deaeb042d61',\n",
       "   'url': 'https://api.github.com/repos/Ironhack-Data-Madrid-Octubre-2022/apuntes_clase/git/trees/167decfacc2efc82b72ab4a245558deaeb042d61'},\n",
       "  'url': 'https://api.github.com/repos/Ironhack-Data-Madrid-Octubre-2022/apuntes_clase/git/commits/a57b7d6ea8ee394d55f79b4411ec30851f8da93b',\n",
       "  'comment_count': 0,\n",
       "  'verification': {'verified': False,\n",
       "   'reason': 'unsigned',\n",
       "   'signature': None,\n",
       "   'payload': None}},\n",
       " {'author': {'name': 'YonatanRA',\n",
       "   'email': 'yeho@mail.com',\n",
       "   'date': '2022-11-02T10:07:40Z'},\n",
       "  'committer': {'name': 'YonatanRA',\n",
       "   'email': 'yeho@mail.com',\n",
       "   'date': '2022-11-02T10:07:40Z'},\n",
       "  'message': 'sql en python',\n",
       "  'tree': {'sha': '9078f5fb776f508ee58edc40beca84a8504dff91',\n",
       "   'url': 'https://api.github.com/repos/Ironhack-Data-Madrid-Octubre-2022/apuntes_clase/git/trees/9078f5fb776f508ee58edc40beca84a8504dff91'},\n",
       "  'url': 'https://api.github.com/repos/Ironhack-Data-Madrid-Octubre-2022/apuntes_clase/git/commits/a2b470d521744d1e3c60f6c823c291d56fd47191',\n",
       "  'comment_count': 0,\n",
       "  'verification': {'verified': False,\n",
       "   'reason': 'unsigned',\n",
       "   'signature': None,\n",
       "   'payload': None}},\n",
       " {'author': {'name': 'YonatanRA',\n",
       "   'email': 'yeho@mail.com',\n",
       "   'date': '2022-11-02T10:03:45Z'},\n",
       "  'committer': {'name': 'YonatanRA',\n",
       "   'email': 'yeho@mail.com',\n",
       "   'date': '2022-11-02T10:03:45Z'},\n",
       "  'message': 'sql en python',\n",
       "  'tree': {'sha': '7fbaa91756c87f989fbff592206ff3851a9006d6',\n",
       "   'url': 'https://api.github.com/repos/Ironhack-Data-Madrid-Octubre-2022/apuntes_clase/git/trees/7fbaa91756c87f989fbff592206ff3851a9006d6'},\n",
       "  'url': 'https://api.github.com/repos/Ironhack-Data-Madrid-Octubre-2022/apuntes_clase/git/commits/2754fe15b21baa24455861ea5c0610ee9ae96984',\n",
       "  'comment_count': 0,\n",
       "  'verification': {'verified': False,\n",
       "   'reason': 'unsigned',\n",
       "   'signature': None,\n",
       "   'payload': None}},\n",
       " {'author': {'name': 'YonatanRA',\n",
       "   'email': 'yeho@mail.com',\n",
       "   'date': '2022-11-02T10:03:08Z'},\n",
       "  'committer': {'name': 'YonatanRA',\n",
       "   'email': 'yeho@mail.com',\n",
       "   'date': '2022-11-02T10:03:08Z'},\n",
       "  'message': 'sql en python',\n",
       "  'tree': {'sha': '47cad70e0584ed49f67bc95408c16b70c9d7d0d7',\n",
       "   'url': 'https://api.github.com/repos/Ironhack-Data-Madrid-Octubre-2022/apuntes_clase/git/trees/47cad70e0584ed49f67bc95408c16b70c9d7d0d7'},\n",
       "  'url': 'https://api.github.com/repos/Ironhack-Data-Madrid-Octubre-2022/apuntes_clase/git/commits/1eecb30ac728479d16d2d48d51e0f7920571bf43',\n",
       "  'comment_count': 0,\n",
       "  'verification': {'verified': False,\n",
       "   'reason': 'unsigned',\n",
       "   'signature': None,\n",
       "   'payload': None}},\n",
       " {'author': {'name': 'YonatanRA',\n",
       "   'email': 'yeho@mail.com',\n",
       "   'date': '2022-11-02T08:52:08Z'},\n",
       "  'committer': {'name': 'YonatanRA',\n",
       "   'email': 'yeho@mail.com',\n",
       "   'date': '2022-11-02T08:52:08Z'},\n",
       "  'message': 'sql en python',\n",
       "  'tree': {'sha': 'c5a8556b12eb0ee0ec3d3abf4f548294a1c5d5dd',\n",
       "   'url': 'https://api.github.com/repos/Ironhack-Data-Madrid-Octubre-2022/apuntes_clase/git/trees/c5a8556b12eb0ee0ec3d3abf4f548294a1c5d5dd'},\n",
       "  'url': 'https://api.github.com/repos/Ironhack-Data-Madrid-Octubre-2022/apuntes_clase/git/commits/7273e300359abfb0ea29ce4a146b4e178b7ec79c',\n",
       "  'comment_count': 0,\n",
       "  'verification': {'verified': False,\n",
       "   'reason': 'unsigned',\n",
       "   'signature': None,\n",
       "   'payload': None}},\n",
       " {'author': {'name': 'YonatanRA',\n",
       "   'email': 'yeho@mail.com',\n",
       "   'date': '2022-11-01T11:20:49Z'},\n",
       "  'committer': {'name': 'YonatanRA',\n",
       "   'email': 'yeho@mail.com',\n",
       "   'date': '2022-11-01T11:20:49Z'},\n",
       "  'message': 'murder sql',\n",
       "  'tree': {'sha': '366de3959d7da1e78a02f3e267a41b32b1a21409',\n",
       "   'url': 'https://api.github.com/repos/Ironhack-Data-Madrid-Octubre-2022/apuntes_clase/git/trees/366de3959d7da1e78a02f3e267a41b32b1a21409'},\n",
       "  'url': 'https://api.github.com/repos/Ironhack-Data-Madrid-Octubre-2022/apuntes_clase/git/commits/d923eb8bc5f588650a8fdeb78a7cbae35e43c58e',\n",
       "  'comment_count': 0,\n",
       "  'verification': {'verified': False,\n",
       "   'reason': 'unsigned',\n",
       "   'signature': None,\n",
       "   'payload': None}},\n",
       " {'author': {'name': 'YonatanRA',\n",
       "   'email': 'yeho@mail.com',\n",
       "   'date': '2022-11-01T10:13:11Z'},\n",
       "  'committer': {'name': 'YonatanRA',\n",
       "   'email': 'yeho@mail.com',\n",
       "   'date': '2022-11-01T10:13:11Z'},\n",
       "  'message': 'queries sql',\n",
       "  'tree': {'sha': '5c488cf67598094b030dd535b046e339fd3abc4a',\n",
       "   'url': 'https://api.github.com/repos/Ironhack-Data-Madrid-Octubre-2022/apuntes_clase/git/trees/5c488cf67598094b030dd535b046e339fd3abc4a'},\n",
       "  'url': 'https://api.github.com/repos/Ironhack-Data-Madrid-Octubre-2022/apuntes_clase/git/commits/acb64ef8bcc2c20f65ba4f61f1949269585a2a24',\n",
       "  'comment_count': 0,\n",
       "  'verification': {'verified': False,\n",
       "   'reason': 'unsigned',\n",
       "   'signature': None,\n",
       "   'payload': None}},\n",
       " {'author': {'name': 'YonatanRA',\n",
       "   'email': 'yeho@mail.com',\n",
       "   'date': '2022-11-01T08:24:38Z'},\n",
       "  'committer': {'name': 'YonatanRA',\n",
       "   'email': 'yeho@mail.com',\n",
       "   'date': '2022-11-01T08:24:38Z'},\n",
       "  'message': 'queries sql',\n",
       "  'tree': {'sha': '731e1d9bc174a943f2ee7b208c210e728567ae36',\n",
       "   'url': 'https://api.github.com/repos/Ironhack-Data-Madrid-Octubre-2022/apuntes_clase/git/trees/731e1d9bc174a943f2ee7b208c210e728567ae36'},\n",
       "  'url': 'https://api.github.com/repos/Ironhack-Data-Madrid-Octubre-2022/apuntes_clase/git/commits/8f85c6e1914c72751d33fe6c15d318ca903290bd',\n",
       "  'comment_count': 0,\n",
       "  'verification': {'verified': False,\n",
       "   'reason': 'unsigned',\n",
       "   'signature': None,\n",
       "   'payload': None}},\n",
       " {'author': {'name': 'YonatanRA',\n",
       "   'email': 'yeho@mail.com',\n",
       "   'date': '2022-11-01T08:00:30Z'},\n",
       "  'committer': {'name': 'YonatanRA',\n",
       "   'email': 'yeho@mail.com',\n",
       "   'date': '2022-11-01T08:00:30Z'},\n",
       "  'message': 'queries sql',\n",
       "  'tree': {'sha': 'd5f3463fb3b05b1b15fa3c1c91315fd6d1c285c0',\n",
       "   'url': 'https://api.github.com/repos/Ironhack-Data-Madrid-Octubre-2022/apuntes_clase/git/trees/d5f3463fb3b05b1b15fa3c1c91315fd6d1c285c0'},\n",
       "  'url': 'https://api.github.com/repos/Ironhack-Data-Madrid-Octubre-2022/apuntes_clase/git/commits/259f4fb99f413eebedde7f193818223de52292fe',\n",
       "  'comment_count': 0,\n",
       "  'verification': {'verified': False,\n",
       "   'reason': 'unsigned',\n",
       "   'signature': None,\n",
       "   'payload': None}}]"
      ]
     },
     "execution_count": 149,
     "metadata": {},
     "output_type": "execute_result"
    }
   ],
   "source": [
    "listito"
   ]
  },
  {
   "cell_type": "code",
   "execution_count": null,
   "metadata": {},
   "outputs": [],
   "source": []
  }
 ],
 "metadata": {
  "kernelspec": {
   "display_name": "Python 3",
   "language": "python",
   "name": "python3"
  },
  "language_info": {
   "codemirror_mode": {
    "name": "ipython",
    "version": 3
   },
   "file_extension": ".py",
   "mimetype": "text/x-python",
   "name": "python",
   "nbconvert_exporter": "python",
   "pygments_lexer": "ipython3",
   "version": "3.7.4"
  },
  "toc": {
   "base_numbering": 1,
   "nav_menu": {},
   "number_sections": true,
   "sideBar": true,
   "skip_h1_title": true,
   "title_cell": "Table of Contents",
   "title_sidebar": "Contents",
   "toc_cell": false,
   "toc_position": {
    "height": "calc(100% - 180px)",
    "left": "10px",
    "top": "150px",
    "width": "288px"
   },
   "toc_section_display": true,
   "toc_window_display": true
  }
 },
 "nbformat": 4,
 "nbformat_minor": 5
}
