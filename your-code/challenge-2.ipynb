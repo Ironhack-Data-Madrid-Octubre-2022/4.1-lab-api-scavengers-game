{
 "cells": [
  {
   "cell_type": "markdown",
   "id": "threaded-asbestos",
   "metadata": {},
   "source": [
    "# Challenge 2: Count Commits\n",
    "\n",
    "Count how many commits were made in the past week.\n",
    "\n",
    "Obtain all the commits made in the past week via API, which is a JSON array that contains multiple commit objects.\n",
    "\n",
    "Count how many commit objects are contained in the array."
   ]
  },
  {
   "cell_type": "markdown",
   "id": "norwegian-praise",
   "metadata": {},
   "source": [
    "⚠️ **Remember to limit your output before submission**."
   ]
  },
  {
   "cell_type": "code",
   "execution_count": 1,
   "id": "developing-printing",
   "metadata": {},
   "outputs": [],
   "source": [
    "#Your code\n",
    "import numpy as np\n",
    "import pandas as pd\n",
    "import pylab as plt\n",
    "import seaborn as sns\n",
    "import json\n",
    "import requests\n",
    "import warnings\n",
    "warnings.filterwarnings('ignore')"
   ]
  },
  {
   "cell_type": "code",
   "execution_count": 2,
   "id": "f05fee81",
   "metadata": {},
   "outputs": [],
   "source": [
    "import os\n",
    "import requests as req\n",
    "from dotenv import load_dotenv"
   ]
  },
  {
   "cell_type": "code",
   "execution_count": 3,
   "id": "creative-stable",
   "metadata": {},
   "outputs": [],
   "source": [
    "from pass_ import *\n",
    "\n",
    "header = {'Authorization': 'token ' + pass_}\n",
    "# Example: print(variable[:10]) "
   ]
  },
  {
   "cell_type": "code",
   "execution_count": 4,
   "id": "ongoing-taylor",
   "metadata": {},
   "outputs": [
    {
     "data": {
      "text/plain": [
       "<Response [200]>"
      ]
     },
     "execution_count": 4,
     "metadata": {},
     "output_type": "execute_result"
    }
   ],
   "source": [
    "url='https://api.github.com/'\n",
    "\n",
    "res=req.get(url, headers=header)\n",
    "\n",
    "res"
   ]
  },
  {
   "cell_type": "code",
   "execution_count": 5,
   "id": "cf51ed8a",
   "metadata": {},
   "outputs": [
    {
     "data": {
      "text/plain": [
       "{'current_user_url': 'https://api.github.com/user',\n",
       " 'current_user_authorizations_html_url': 'https://github.com/settings/connections/applications{/client_id}',\n",
       " 'authorizations_url': 'https://api.github.com/authorizations',\n",
       " 'code_search_url': 'https://api.github.com/search/code?q={query}{&page,per_page,sort,order}',\n",
       " 'commit_search_url': 'https://api.github.com/search/commits?q={query}{&page,per_page,sort,order}',\n",
       " 'emails_url': 'https://api.github.com/user/emails',\n",
       " 'emojis_url': 'https://api.github.com/emojis',\n",
       " 'events_url': 'https://api.github.com/events',\n",
       " 'feeds_url': 'https://api.github.com/feeds',\n",
       " 'followers_url': 'https://api.github.com/user/followers',\n",
       " 'following_url': 'https://api.github.com/user/following{/target}',\n",
       " 'gists_url': 'https://api.github.com/gists{/gist_id}',\n",
       " 'hub_url': 'https://api.github.com/hub',\n",
       " 'issue_search_url': 'https://api.github.com/search/issues?q={query}{&page,per_page,sort,order}',\n",
       " 'issues_url': 'https://api.github.com/issues',\n",
       " 'keys_url': 'https://api.github.com/user/keys',\n",
       " 'label_search_url': 'https://api.github.com/search/labels?q={query}&repository_id={repository_id}{&page,per_page}',\n",
       " 'notifications_url': 'https://api.github.com/notifications',\n",
       " 'organization_url': 'https://api.github.com/orgs/{org}',\n",
       " 'organization_repositories_url': 'https://api.github.com/orgs/{org}/repos{?type,page,per_page,sort}',\n",
       " 'organization_teams_url': 'https://api.github.com/orgs/{org}/teams',\n",
       " 'public_gists_url': 'https://api.github.com/gists/public',\n",
       " 'rate_limit_url': 'https://api.github.com/rate_limit',\n",
       " 'repository_url': 'https://api.github.com/repos/{owner}/{repo}',\n",
       " 'repository_search_url': 'https://api.github.com/search/repositories?q={query}{&page,per_page,sort,order}',\n",
       " 'current_user_repositories_url': 'https://api.github.com/user/repos{?type,page,per_page,sort}',\n",
       " 'starred_url': 'https://api.github.com/user/starred{/owner}{/repo}',\n",
       " 'starred_gists_url': 'https://api.github.com/gists/starred',\n",
       " 'topic_search_url': 'https://api.github.com/search/topics?q={query}{&page,per_page}',\n",
       " 'user_url': 'https://api.github.com/users/{user}',\n",
       " 'user_organizations_url': 'https://api.github.com/user/orgs',\n",
       " 'user_repositories_url': 'https://api.github.com/users/{user}/repos{?type,page,per_page,sort}',\n",
       " 'user_search_url': 'https://api.github.com/search/users?q={query}{&page,per_page,sort,order}'}"
      ]
     },
     "execution_count": 5,
     "metadata": {},
     "output_type": "execute_result"
    }
   ],
   "source": [
    "res.json()"
   ]
  },
  {
   "cell_type": "code",
   "execution_count": 6,
   "id": "b3d2734a",
   "metadata": {},
   "outputs": [
    {
     "data": {
      "text/plain": [
       "<Response [200]>"
      ]
     },
     "execution_count": 6,
     "metadata": {},
     "output_type": "execute_result"
    }
   ],
   "source": [
    "url = 'https://api.github.com/repos/Ironhack-Data-Madrid-Octubre-2022/apuntes_clase'\n",
    "\n",
    "res=req.get(url, headers=header)\n",
    "\n",
    "res"
   ]
  },
  {
   "cell_type": "code",
   "execution_count": 7,
   "id": "58410c39",
   "metadata": {},
   "outputs": [
    {
     "data": {
      "text/plain": [
       "{'id': 548914524,\n",
       " 'node_id': 'R_kgDOILfFXA',\n",
       " 'name': 'apuntes_clase',\n",
       " 'full_name': 'Ironhack-Data-Madrid-Octubre-2022/apuntes_clase',\n",
       " 'private': False,\n",
       " 'owner': {'login': 'Ironhack-Data-Madrid-Octubre-2022',\n",
       "  'id': 115468844,\n",
       "  'node_id': 'O_kgDOBuHqLA',\n",
       "  'avatar_url': 'https://avatars.githubusercontent.com/u/115468844?v=4',\n",
       "  'gravatar_id': '',\n",
       "  'url': 'https://api.github.com/users/Ironhack-Data-Madrid-Octubre-2022',\n",
       "  'html_url': 'https://github.com/Ironhack-Data-Madrid-Octubre-2022',\n",
       "  'followers_url': 'https://api.github.com/users/Ironhack-Data-Madrid-Octubre-2022/followers',\n",
       "  'following_url': 'https://api.github.com/users/Ironhack-Data-Madrid-Octubre-2022/following{/other_user}',\n",
       "  'gists_url': 'https://api.github.com/users/Ironhack-Data-Madrid-Octubre-2022/gists{/gist_id}',\n",
       "  'starred_url': 'https://api.github.com/users/Ironhack-Data-Madrid-Octubre-2022/starred{/owner}{/repo}',\n",
       "  'subscriptions_url': 'https://api.github.com/users/Ironhack-Data-Madrid-Octubre-2022/subscriptions',\n",
       "  'organizations_url': 'https://api.github.com/users/Ironhack-Data-Madrid-Octubre-2022/orgs',\n",
       "  'repos_url': 'https://api.github.com/users/Ironhack-Data-Madrid-Octubre-2022/repos',\n",
       "  'events_url': 'https://api.github.com/users/Ironhack-Data-Madrid-Octubre-2022/events{/privacy}',\n",
       "  'received_events_url': 'https://api.github.com/users/Ironhack-Data-Madrid-Octubre-2022/received_events',\n",
       "  'type': 'Organization',\n",
       "  'site_admin': False},\n",
       " 'html_url': 'https://github.com/Ironhack-Data-Madrid-Octubre-2022/apuntes_clase',\n",
       " 'description': 'Código de las clases',\n",
       " 'fork': False,\n",
       " 'url': 'https://api.github.com/repos/Ironhack-Data-Madrid-Octubre-2022/apuntes_clase',\n",
       " 'forks_url': 'https://api.github.com/repos/Ironhack-Data-Madrid-Octubre-2022/apuntes_clase/forks',\n",
       " 'keys_url': 'https://api.github.com/repos/Ironhack-Data-Madrid-Octubre-2022/apuntes_clase/keys{/key_id}',\n",
       " 'collaborators_url': 'https://api.github.com/repos/Ironhack-Data-Madrid-Octubre-2022/apuntes_clase/collaborators{/collaborator}',\n",
       " 'teams_url': 'https://api.github.com/repos/Ironhack-Data-Madrid-Octubre-2022/apuntes_clase/teams',\n",
       " 'hooks_url': 'https://api.github.com/repos/Ironhack-Data-Madrid-Octubre-2022/apuntes_clase/hooks',\n",
       " 'issue_events_url': 'https://api.github.com/repos/Ironhack-Data-Madrid-Octubre-2022/apuntes_clase/issues/events{/number}',\n",
       " 'events_url': 'https://api.github.com/repos/Ironhack-Data-Madrid-Octubre-2022/apuntes_clase/events',\n",
       " 'assignees_url': 'https://api.github.com/repos/Ironhack-Data-Madrid-Octubre-2022/apuntes_clase/assignees{/user}',\n",
       " 'branches_url': 'https://api.github.com/repos/Ironhack-Data-Madrid-Octubre-2022/apuntes_clase/branches{/branch}',\n",
       " 'tags_url': 'https://api.github.com/repos/Ironhack-Data-Madrid-Octubre-2022/apuntes_clase/tags',\n",
       " 'blobs_url': 'https://api.github.com/repos/Ironhack-Data-Madrid-Octubre-2022/apuntes_clase/git/blobs{/sha}',\n",
       " 'git_tags_url': 'https://api.github.com/repos/Ironhack-Data-Madrid-Octubre-2022/apuntes_clase/git/tags{/sha}',\n",
       " 'git_refs_url': 'https://api.github.com/repos/Ironhack-Data-Madrid-Octubre-2022/apuntes_clase/git/refs{/sha}',\n",
       " 'trees_url': 'https://api.github.com/repos/Ironhack-Data-Madrid-Octubre-2022/apuntes_clase/git/trees{/sha}',\n",
       " 'statuses_url': 'https://api.github.com/repos/Ironhack-Data-Madrid-Octubre-2022/apuntes_clase/statuses/{sha}',\n",
       " 'languages_url': 'https://api.github.com/repos/Ironhack-Data-Madrid-Octubre-2022/apuntes_clase/languages',\n",
       " 'stargazers_url': 'https://api.github.com/repos/Ironhack-Data-Madrid-Octubre-2022/apuntes_clase/stargazers',\n",
       " 'contributors_url': 'https://api.github.com/repos/Ironhack-Data-Madrid-Octubre-2022/apuntes_clase/contributors',\n",
       " 'subscribers_url': 'https://api.github.com/repos/Ironhack-Data-Madrid-Octubre-2022/apuntes_clase/subscribers',\n",
       " 'subscription_url': 'https://api.github.com/repos/Ironhack-Data-Madrid-Octubre-2022/apuntes_clase/subscription',\n",
       " 'commits_url': 'https://api.github.com/repos/Ironhack-Data-Madrid-Octubre-2022/apuntes_clase/commits{/sha}',\n",
       " 'git_commits_url': 'https://api.github.com/repos/Ironhack-Data-Madrid-Octubre-2022/apuntes_clase/git/commits{/sha}',\n",
       " 'comments_url': 'https://api.github.com/repos/Ironhack-Data-Madrid-Octubre-2022/apuntes_clase/comments{/number}',\n",
       " 'issue_comment_url': 'https://api.github.com/repos/Ironhack-Data-Madrid-Octubre-2022/apuntes_clase/issues/comments{/number}',\n",
       " 'contents_url': 'https://api.github.com/repos/Ironhack-Data-Madrid-Octubre-2022/apuntes_clase/contents/{+path}',\n",
       " 'compare_url': 'https://api.github.com/repos/Ironhack-Data-Madrid-Octubre-2022/apuntes_clase/compare/{base}...{head}',\n",
       " 'merges_url': 'https://api.github.com/repos/Ironhack-Data-Madrid-Octubre-2022/apuntes_clase/merges',\n",
       " 'archive_url': 'https://api.github.com/repos/Ironhack-Data-Madrid-Octubre-2022/apuntes_clase/{archive_format}{/ref}',\n",
       " 'downloads_url': 'https://api.github.com/repos/Ironhack-Data-Madrid-Octubre-2022/apuntes_clase/downloads',\n",
       " 'issues_url': 'https://api.github.com/repos/Ironhack-Data-Madrid-Octubre-2022/apuntes_clase/issues{/number}',\n",
       " 'pulls_url': 'https://api.github.com/repos/Ironhack-Data-Madrid-Octubre-2022/apuntes_clase/pulls{/number}',\n",
       " 'milestones_url': 'https://api.github.com/repos/Ironhack-Data-Madrid-Octubre-2022/apuntes_clase/milestones{/number}',\n",
       " 'notifications_url': 'https://api.github.com/repos/Ironhack-Data-Madrid-Octubre-2022/apuntes_clase/notifications{?since,all,participating}',\n",
       " 'labels_url': 'https://api.github.com/repos/Ironhack-Data-Madrid-Octubre-2022/apuntes_clase/labels{/name}',\n",
       " 'releases_url': 'https://api.github.com/repos/Ironhack-Data-Madrid-Octubre-2022/apuntes_clase/releases{/id}',\n",
       " 'deployments_url': 'https://api.github.com/repos/Ironhack-Data-Madrid-Octubre-2022/apuntes_clase/deployments',\n",
       " 'created_at': '2022-10-10T11:38:09Z',\n",
       " 'updated_at': '2022-10-17T07:53:40Z',\n",
       " 'pushed_at': '2022-11-07T11:13:43Z',\n",
       " 'git_url': 'git://github.com/Ironhack-Data-Madrid-Octubre-2022/apuntes_clase.git',\n",
       " 'ssh_url': 'git@github.com:Ironhack-Data-Madrid-Octubre-2022/apuntes_clase.git',\n",
       " 'clone_url': 'https://github.com/Ironhack-Data-Madrid-Octubre-2022/apuntes_clase.git',\n",
       " 'svn_url': 'https://github.com/Ironhack-Data-Madrid-Octubre-2022/apuntes_clase',\n",
       " 'homepage': None,\n",
       " 'size': 751856,\n",
       " 'stargazers_count': 0,\n",
       " 'watchers_count': 0,\n",
       " 'language': 'Jupyter Notebook',\n",
       " 'has_issues': True,\n",
       " 'has_projects': True,\n",
       " 'has_downloads': True,\n",
       " 'has_wiki': True,\n",
       " 'has_pages': False,\n",
       " 'forks_count': 21,\n",
       " 'mirror_url': None,\n",
       " 'archived': False,\n",
       " 'disabled': False,\n",
       " 'open_issues_count': 0,\n",
       " 'license': None,\n",
       " 'allow_forking': True,\n",
       " 'is_template': False,\n",
       " 'web_commit_signoff_required': False,\n",
       " 'topics': [],\n",
       " 'visibility': 'public',\n",
       " 'forks': 21,\n",
       " 'open_issues': 0,\n",
       " 'watchers': 0,\n",
       " 'default_branch': 'main',\n",
       " 'permissions': {'admin': False,\n",
       "  'maintain': False,\n",
       "  'push': False,\n",
       "  'triage': False,\n",
       "  'pull': True},\n",
       " 'temp_clone_token': '',\n",
       " 'organization': {'login': 'Ironhack-Data-Madrid-Octubre-2022',\n",
       "  'id': 115468844,\n",
       "  'node_id': 'O_kgDOBuHqLA',\n",
       "  'avatar_url': 'https://avatars.githubusercontent.com/u/115468844?v=4',\n",
       "  'gravatar_id': '',\n",
       "  'url': 'https://api.github.com/users/Ironhack-Data-Madrid-Octubre-2022',\n",
       "  'html_url': 'https://github.com/Ironhack-Data-Madrid-Octubre-2022',\n",
       "  'followers_url': 'https://api.github.com/users/Ironhack-Data-Madrid-Octubre-2022/followers',\n",
       "  'following_url': 'https://api.github.com/users/Ironhack-Data-Madrid-Octubre-2022/following{/other_user}',\n",
       "  'gists_url': 'https://api.github.com/users/Ironhack-Data-Madrid-Octubre-2022/gists{/gist_id}',\n",
       "  'starred_url': 'https://api.github.com/users/Ironhack-Data-Madrid-Octubre-2022/starred{/owner}{/repo}',\n",
       "  'subscriptions_url': 'https://api.github.com/users/Ironhack-Data-Madrid-Octubre-2022/subscriptions',\n",
       "  'organizations_url': 'https://api.github.com/users/Ironhack-Data-Madrid-Octubre-2022/orgs',\n",
       "  'repos_url': 'https://api.github.com/users/Ironhack-Data-Madrid-Octubre-2022/repos',\n",
       "  'events_url': 'https://api.github.com/users/Ironhack-Data-Madrid-Octubre-2022/events{/privacy}',\n",
       "  'received_events_url': 'https://api.github.com/users/Ironhack-Data-Madrid-Octubre-2022/received_events',\n",
       "  'type': 'Organization',\n",
       "  'site_admin': False},\n",
       " 'network_count': 21,\n",
       " 'subscribers_count': 1}"
      ]
     },
     "execution_count": 7,
     "metadata": {},
     "output_type": "execute_result"
    }
   ],
   "source": [
    "res.json()"
   ]
  },
  {
   "cell_type": "code",
   "execution_count": 8,
   "id": "bf480bec",
   "metadata": {},
   "outputs": [
    {
     "data": {
      "text/plain": [
       "'https://api.github.com/repos/Ironhack-Data-Madrid-Octubre-2022/apuntes_clase/commits{/sha}'"
      ]
     },
     "execution_count": 8,
     "metadata": {},
     "output_type": "execute_result"
    }
   ],
   "source": [
    "res.json()['commits_url']"
   ]
  },
  {
   "cell_type": "code",
   "execution_count": 9,
   "id": "9b14613e",
   "metadata": {},
   "outputs": [
    {
     "data": {
      "text/plain": [
       "<Response [200]>"
      ]
     },
     "execution_count": 9,
     "metadata": {},
     "output_type": "execute_result"
    }
   ],
   "source": [
    "url = 'https://api.github.com/repos/Ironhack-Data-Madrid-Octubre-2022/apuntes_clase/commits'\n",
    "\n",
    "res_commits=req.get(url, headers=header)\n",
    "\n",
    "res_commits"
   ]
  },
  {
   "cell_type": "code",
   "execution_count": 10,
   "id": "e9f02def",
   "metadata": {},
   "outputs": [
    {
     "data": {
      "text/plain": [
       "30"
      ]
     },
     "execution_count": 10,
     "metadata": {},
     "output_type": "execute_result"
    }
   ],
   "source": [
    "len(res_commits.json())"
   ]
  },
  {
   "cell_type": "code",
   "execution_count": 11,
   "id": "e7d835b2",
   "metadata": {},
   "outputs": [
    {
     "data": {
      "text/plain": [
       "{'sha': '034ebe77b9da0a6af7ae3db558978cebe96731d9',\n",
       " 'node_id': 'C_kwDOILfFXNoAKDAzNGViZTc3YjlkYTBhNmFmN2FlM2RiNTU4OTc4Y2ViZTk2NzMxZDk',\n",
       " 'commit': {'author': {'name': 'YonatanRA',\n",
       "   'email': 'yeho@mail.com',\n",
       "   'date': '2022-11-07T11:13:39Z'},\n",
       "  'committer': {'name': 'YonatanRA',\n",
       "   'email': 'yeho@mail.com',\n",
       "   'date': '2022-11-07T11:13:39Z'},\n",
       "  'message': 'flask',\n",
       "  'tree': {'sha': '10c67cd8a7c4b28c46544a76bf8573bf5e5a3049',\n",
       "   'url': 'https://api.github.com/repos/Ironhack-Data-Madrid-Octubre-2022/apuntes_clase/git/trees/10c67cd8a7c4b28c46544a76bf8573bf5e5a3049'},\n",
       "  'url': 'https://api.github.com/repos/Ironhack-Data-Madrid-Octubre-2022/apuntes_clase/git/commits/034ebe77b9da0a6af7ae3db558978cebe96731d9',\n",
       "  'comment_count': 0,\n",
       "  'verification': {'verified': False,\n",
       "   'reason': 'unsigned',\n",
       "   'signature': None,\n",
       "   'payload': None}},\n",
       " 'url': 'https://api.github.com/repos/Ironhack-Data-Madrid-Octubre-2022/apuntes_clase/commits/034ebe77b9da0a6af7ae3db558978cebe96731d9',\n",
       " 'html_url': 'https://github.com/Ironhack-Data-Madrid-Octubre-2022/apuntes_clase/commit/034ebe77b9da0a6af7ae3db558978cebe96731d9',\n",
       " 'comments_url': 'https://api.github.com/repos/Ironhack-Data-Madrid-Octubre-2022/apuntes_clase/commits/034ebe77b9da0a6af7ae3db558978cebe96731d9/comments',\n",
       " 'author': {'login': 'YonatanRA',\n",
       "  'id': 47545401,\n",
       "  'node_id': 'MDQ6VXNlcjQ3NTQ1NDAx',\n",
       "  'avatar_url': 'https://avatars.githubusercontent.com/u/47545401?v=4',\n",
       "  'gravatar_id': '',\n",
       "  'url': 'https://api.github.com/users/YonatanRA',\n",
       "  'html_url': 'https://github.com/YonatanRA',\n",
       "  'followers_url': 'https://api.github.com/users/YonatanRA/followers',\n",
       "  'following_url': 'https://api.github.com/users/YonatanRA/following{/other_user}',\n",
       "  'gists_url': 'https://api.github.com/users/YonatanRA/gists{/gist_id}',\n",
       "  'starred_url': 'https://api.github.com/users/YonatanRA/starred{/owner}{/repo}',\n",
       "  'subscriptions_url': 'https://api.github.com/users/YonatanRA/subscriptions',\n",
       "  'organizations_url': 'https://api.github.com/users/YonatanRA/orgs',\n",
       "  'repos_url': 'https://api.github.com/users/YonatanRA/repos',\n",
       "  'events_url': 'https://api.github.com/users/YonatanRA/events{/privacy}',\n",
       "  'received_events_url': 'https://api.github.com/users/YonatanRA/received_events',\n",
       "  'type': 'User',\n",
       "  'site_admin': False},\n",
       " 'committer': {'login': 'YonatanRA',\n",
       "  'id': 47545401,\n",
       "  'node_id': 'MDQ6VXNlcjQ3NTQ1NDAx',\n",
       "  'avatar_url': 'https://avatars.githubusercontent.com/u/47545401?v=4',\n",
       "  'gravatar_id': '',\n",
       "  'url': 'https://api.github.com/users/YonatanRA',\n",
       "  'html_url': 'https://github.com/YonatanRA',\n",
       "  'followers_url': 'https://api.github.com/users/YonatanRA/followers',\n",
       "  'following_url': 'https://api.github.com/users/YonatanRA/following{/other_user}',\n",
       "  'gists_url': 'https://api.github.com/users/YonatanRA/gists{/gist_id}',\n",
       "  'starred_url': 'https://api.github.com/users/YonatanRA/starred{/owner}{/repo}',\n",
       "  'subscriptions_url': 'https://api.github.com/users/YonatanRA/subscriptions',\n",
       "  'organizations_url': 'https://api.github.com/users/YonatanRA/orgs',\n",
       "  'repos_url': 'https://api.github.com/users/YonatanRA/repos',\n",
       "  'events_url': 'https://api.github.com/users/YonatanRA/events{/privacy}',\n",
       "  'received_events_url': 'https://api.github.com/users/YonatanRA/received_events',\n",
       "  'type': 'User',\n",
       "  'site_admin': False},\n",
       " 'parents': [{'sha': '1b5671abfde834396ac57d6ee1099dd8ae4943ef',\n",
       "   'url': 'https://api.github.com/repos/Ironhack-Data-Madrid-Octubre-2022/apuntes_clase/commits/1b5671abfde834396ac57d6ee1099dd8ae4943ef',\n",
       "   'html_url': 'https://github.com/Ironhack-Data-Madrid-Octubre-2022/apuntes_clase/commit/1b5671abfde834396ac57d6ee1099dd8ae4943ef'}]}"
      ]
     },
     "execution_count": 11,
     "metadata": {},
     "output_type": "execute_result"
    }
   ],
   "source": [
    "res_commits.json()[0]"
   ]
  },
  {
   "cell_type": "code",
   "execution_count": 12,
   "id": "0226e7a3",
   "metadata": {},
   "outputs": [
    {
     "data": {
      "text/plain": [
       "'2022-11-03T11:48:51Z'"
      ]
     },
     "execution_count": 12,
     "metadata": {},
     "output_type": "execute_result"
    }
   ],
   "source": [
    "res_commits.json()[3]['commit']['author']['date']"
   ]
  },
  {
   "cell_type": "code",
   "execution_count": 13,
   "id": "9e8a630d",
   "metadata": {},
   "outputs": [
    {
     "data": {
      "text/plain": [
       "'2022-11-03'"
      ]
     },
     "execution_count": 13,
     "metadata": {},
     "output_type": "execute_result"
    }
   ],
   "source": [
    "res_commits.json()[3]['commit']['author']['date'][0:10:]"
   ]
  },
  {
   "cell_type": "code",
   "execution_count": 14,
   "id": "442f2de1",
   "metadata": {},
   "outputs": [
    {
     "data": {
      "text/plain": [
       "16"
      ]
     },
     "execution_count": 14,
     "metadata": {},
     "output_type": "execute_result"
    }
   ],
   "source": [
    "list_commit = []\n",
    "for i in range(len(res_commits.json())):\n",
    "    \n",
    "    if res_commits.json()[i]['commit']['author']['date'][0:10:] > '2022-10-31':\n",
    "        \n",
    "        list_commit.append(res_commits.json()[i]['commit'])\n",
    "\n",
    "number_commits = len(list_commit)\n",
    "\n",
    "number_commits"
   ]
  },
  {
   "cell_type": "code",
   "execution_count": 15,
   "id": "feead4ae",
   "metadata": {},
   "outputs": [
    {
     "data": {
      "text/plain": [
       "{'author': {'name': 'YonatanRA',\n",
       "  'email': 'yeho@mail.com',\n",
       "  'date': '2022-11-07T11:13:39Z'},\n",
       " 'committer': {'name': 'YonatanRA',\n",
       "  'email': 'yeho@mail.com',\n",
       "  'date': '2022-11-07T11:13:39Z'},\n",
       " 'message': 'flask',\n",
       " 'tree': {'sha': '10c67cd8a7c4b28c46544a76bf8573bf5e5a3049',\n",
       "  'url': 'https://api.github.com/repos/Ironhack-Data-Madrid-Octubre-2022/apuntes_clase/git/trees/10c67cd8a7c4b28c46544a76bf8573bf5e5a3049'},\n",
       " 'url': 'https://api.github.com/repos/Ironhack-Data-Madrid-Octubre-2022/apuntes_clase/git/commits/034ebe77b9da0a6af7ae3db558978cebe96731d9',\n",
       " 'comment_count': 0,\n",
       " 'verification': {'verified': False,\n",
       "  'reason': 'unsigned',\n",
       "  'signature': None,\n",
       "  'payload': None}}"
      ]
     },
     "execution_count": 15,
     "metadata": {},
     "output_type": "execute_result"
    }
   ],
   "source": [
    "list_commit[0]"
   ]
  },
  {
   "cell_type": "code",
   "execution_count": null,
   "id": "eae4e95a",
   "metadata": {},
   "outputs": [],
   "source": []
  }
 ],
 "metadata": {
  "kernelspec": {
   "display_name": "Python 3 (ipykernel)",
   "language": "python",
   "name": "python3"
  },
  "language_info": {
   "codemirror_mode": {
    "name": "ipython",
    "version": 3
   },
   "file_extension": ".py",
   "mimetype": "text/x-python",
   "name": "python",
   "nbconvert_exporter": "python",
   "pygments_lexer": "ipython3",
   "version": "3.10.4"
  },
  "toc": {
   "base_numbering": 1,
   "nav_menu": {},
   "number_sections": true,
   "sideBar": true,
   "skip_h1_title": true,
   "title_cell": "Table of Contents",
   "title_sidebar": "Contents",
   "toc_cell": false,
   "toc_position": {
    "height": "calc(100% - 180px)",
    "left": "10px",
    "top": "150px",
    "width": "288px"
   },
   "toc_section_display": true,
   "toc_window_display": true
  }
 },
 "nbformat": 4,
 "nbformat_minor": 5
}
