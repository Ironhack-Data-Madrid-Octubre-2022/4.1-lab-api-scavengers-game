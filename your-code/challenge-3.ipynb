{
 "cells": [
  {
   "cell_type": "markdown",
   "id": "defensive-clock",
   "metadata": {},
   "source": [
    "# Challenge 3: Hidden Cold Joke\n",
    "\n",
    "Using Python, call Github API to find out the cold joke contained in the 24 secret files in the following repo:\n",
    "\n",
    "https://github.com/ironhack-datalabs/scavenger\n",
    "\n",
    "The filenames of the secret files contain .scavengerhunt and they are scattered in different directories of this repo. The secret files are named from .0001.scavengerhunt to .0024.scavengerhunt. They are scattered randomly throughout this repo. You need to search for these files by calling the Github API, not searching the local files on your computer.\n",
    "\n",
    "\n",
    "After you find out the secrete files:\n",
    "\n",
    "Sort the filenames ascendingly.\n",
    "\n",
    "Read the content of each secret files into an array of strings.\n",
    "\n",
    "Concatenate the strings in the array separating each two with a whitespace.\n",
    "\n",
    "Print out the joke."
   ]
  },
  {
   "cell_type": "markdown",
   "id": "universal-length",
   "metadata": {},
   "source": [
    "⚠️ **Remember to limit your output before submission**."
   ]
  },
  {
   "cell_type": "code",
   "execution_count": 1,
   "id": "toxic-trading",
   "metadata": {},
   "outputs": [],
   "source": [
    "import json\n",
    "import requests as req"
   ]
  },
  {
   "cell_type": "code",
   "execution_count": 2,
   "id": "525fa205",
   "metadata": {},
   "outputs": [],
   "source": [
    "import os\n",
    "from dotenv import load_dotenv"
   ]
  },
  {
   "cell_type": "code",
   "execution_count": 9,
   "id": "bb483ddc",
   "metadata": {},
   "outputs": [],
   "source": [
    "with open('/Users/jimy/Desktop/lst/lol.txt', 'r', encoding='utf-8') as f:\n",
    "        \n",
    "        for line in f:\n",
    "            \n",
    "            pass_= line\n",
    "    \n"
   ]
  },
  {
   "cell_type": "code",
   "execution_count": null,
   "id": "3d8efb92",
   "metadata": {},
   "outputs": [],
   "source": []
  },
  {
   "cell_type": "code",
   "execution_count": 12,
   "id": "cb2530aa",
   "metadata": {},
   "outputs": [
    {
     "data": {
      "text/plain": [
       "<Response [200]>"
      ]
     },
     "execution_count": 12,
     "metadata": {},
     "output_type": "execute_result"
    }
   ],
   "source": [
    "header={'Authorization':'token ' + pass_}\n",
    "\n",
    "url = 'https://api.github.com/repos/ironhack-datalabs/scavenger/contents/'\n",
    "\n",
    "res2 = req.get(url, headers=header)\n",
    "\n",
    "res2"
   ]
  },
  {
   "cell_type": "code",
   "execution_count": 13,
   "id": "4d1b1c1f",
   "metadata": {},
   "outputs": [],
   "source": [
    "res4 = req.get(res2.json()[1][\"url\"])"
   ]
  },
  {
   "cell_type": "code",
   "execution_count": 14,
   "id": "f621070a",
   "metadata": {},
   "outputs": [
    {
     "data": {
      "text/plain": [
       "[{'name': '.0006.scavengerhunt',\n",
       "  'path': '15024/.0006.scavengerhunt',\n",
       "  'sha': '1c9064284a24b3486015eafdb391b141c27ada2b',\n",
       "  'size': 3,\n",
       "  'url': 'https://api.github.com/repos/ironhack-datalabs/scavenger/contents/15024/.0006.scavengerhunt?ref=master',\n",
       "  'html_url': 'https://github.com/ironhack-datalabs/scavenger/blob/master/15024/.0006.scavengerhunt',\n",
       "  'git_url': 'https://api.github.com/repos/ironhack-datalabs/scavenger/git/blobs/1c9064284a24b3486015eafdb391b141c27ada2b',\n",
       "  'download_url': 'https://raw.githubusercontent.com/ironhack-datalabs/scavenger/master/15024/.0006.scavengerhunt',\n",
       "  'type': 'file',\n",
       "  '_links': {'self': 'https://api.github.com/repos/ironhack-datalabs/scavenger/contents/15024/.0006.scavengerhunt?ref=master',\n",
       "   'git': 'https://api.github.com/repos/ironhack-datalabs/scavenger/git/blobs/1c9064284a24b3486015eafdb391b141c27ada2b',\n",
       "   'html': 'https://github.com/ironhack-datalabs/scavenger/blob/master/15024/.0006.scavengerhunt'}},\n",
       " {'name': '40',\n",
       "  'path': '15024/40',\n",
       "  'sha': 'e69de29bb2d1d6434b8b29ae775ad8c2e48c5391',\n",
       "  'size': 0,\n",
       "  'url': 'https://api.github.com/repos/ironhack-datalabs/scavenger/contents/15024/40?ref=master',\n",
       "  'html_url': 'https://github.com/ironhack-datalabs/scavenger/blob/master/15024/40',\n",
       "  'git_url': 'https://api.github.com/repos/ironhack-datalabs/scavenger/git/blobs/e69de29bb2d1d6434b8b29ae775ad8c2e48c5391',\n",
       "  'download_url': 'https://raw.githubusercontent.com/ironhack-datalabs/scavenger/master/15024/40',\n",
       "  'type': 'file',\n",
       "  '_links': {'self': 'https://api.github.com/repos/ironhack-datalabs/scavenger/contents/15024/40?ref=master',\n",
       "   'git': 'https://api.github.com/repos/ironhack-datalabs/scavenger/git/blobs/e69de29bb2d1d6434b8b29ae775ad8c2e48c5391',\n",
       "   'html': 'https://github.com/ironhack-datalabs/scavenger/blob/master/15024/40'}},\n",
       " {'name': '74',\n",
       "  'path': '15024/74',\n",
       "  'sha': 'e69de29bb2d1d6434b8b29ae775ad8c2e48c5391',\n",
       "  'size': 0,\n",
       "  'url': 'https://api.github.com/repos/ironhack-datalabs/scavenger/contents/15024/74?ref=master',\n",
       "  'html_url': 'https://github.com/ironhack-datalabs/scavenger/blob/master/15024/74',\n",
       "  'git_url': 'https://api.github.com/repos/ironhack-datalabs/scavenger/git/blobs/e69de29bb2d1d6434b8b29ae775ad8c2e48c5391',\n",
       "  'download_url': 'https://raw.githubusercontent.com/ironhack-datalabs/scavenger/master/15024/74',\n",
       "  'type': 'file',\n",
       "  '_links': {'self': 'https://api.github.com/repos/ironhack-datalabs/scavenger/contents/15024/74?ref=master',\n",
       "   'git': 'https://api.github.com/repos/ironhack-datalabs/scavenger/git/blobs/e69de29bb2d1d6434b8b29ae775ad8c2e48c5391',\n",
       "   'html': 'https://github.com/ironhack-datalabs/scavenger/blob/master/15024/74'}},\n",
       " {'name': '99',\n",
       "  'path': '15024/99',\n",
       "  'sha': 'e69de29bb2d1d6434b8b29ae775ad8c2e48c5391',\n",
       "  'size': 0,\n",
       "  'url': 'https://api.github.com/repos/ironhack-datalabs/scavenger/contents/15024/99?ref=master',\n",
       "  'html_url': 'https://github.com/ironhack-datalabs/scavenger/blob/master/15024/99',\n",
       "  'git_url': 'https://api.github.com/repos/ironhack-datalabs/scavenger/git/blobs/e69de29bb2d1d6434b8b29ae775ad8c2e48c5391',\n",
       "  'download_url': 'https://raw.githubusercontent.com/ironhack-datalabs/scavenger/master/15024/99',\n",
       "  'type': 'file',\n",
       "  '_links': {'self': 'https://api.github.com/repos/ironhack-datalabs/scavenger/contents/15024/99?ref=master',\n",
       "   'git': 'https://api.github.com/repos/ironhack-datalabs/scavenger/git/blobs/e69de29bb2d1d6434b8b29ae775ad8c2e48c5391',\n",
       "   'html': 'https://github.com/ironhack-datalabs/scavenger/blob/master/15024/99'}}]"
      ]
     },
     "execution_count": 14,
     "metadata": {},
     "output_type": "execute_result"
    }
   ],
   "source": [
    "res4.json()"
   ]
  },
  {
   "cell_type": "code",
   "execution_count": 16,
   "id": "40cb6704",
   "metadata": {},
   "outputs": [],
   "source": [
    "import base64\n",
    "secret = []\n",
    "secret_keys = {}\n",
    "for i in range(1, len(res2.json())):\n",
    "    res = req.get(res2.json()[i][\"git_url\"],headers=header)\n",
    "    for k in range(len(res.json()[\"tree\"])):\n",
    "        if \"scavenger\" in res.json()[\"tree\"][k][\"path\"]:\n",
    "            res3 = req.get(res.json()[\"tree\"][k][\"url\"],headers = header)\n",
    "            coded_string = res3.json()[\"content\"]\n",
    "            secret_keys[res.json()[\"tree\"][k][\"path\"]] = base64.b64decode(coded_string).decode(\"ascii\").replace(\"\\n\",\"\")"
   ]
  },
  {
   "cell_type": "code",
   "execution_count": 17,
   "id": "f64245d9",
   "metadata": {},
   "outputs": [
    {
     "data": {
      "text/plain": [
       "{'.0006.scavengerhunt': 'of',\n",
       " '.0008.scavengerhunt': 'spent',\n",
       " '.0012.scavengerhunt': '20',\n",
       " '.0007.scavengerhunt': 'time',\n",
       " '.0021.scavengerhunt': 'need',\n",
       " '.0022.scavengerhunt': 'to',\n",
       " '.0005.scavengerhunt': 'percent',\n",
       " '.0018.scavengerhunt': 'complaining',\n",
       " '.0016.scavengerhunt': 'is',\n",
       " '.0024.scavengerhunt': 'data.',\n",
       " '.0010.scavengerhunt': 'preparing',\n",
       " '.0014.scavengerhunt': 'of',\n",
       " '.0011.scavengerhunt': 'data,',\n",
       " '.0023.scavengerhunt': 'prepare',\n",
       " '.0020.scavengerhunt': 'the',\n",
       " '.0003.scavengerhunt': 'science,',\n",
       " '.0004.scavengerhunt': '80',\n",
       " '.0019.scavengerhunt': 'about',\n",
       " '.0017.scavengerhunt': 'spent',\n",
       " '.0002.scavengerhunt': 'data',\n",
       " '.0013.scavengerhunt': 'percent',\n",
       " '.0015.scavengerhunt': 'time',\n",
       " '.0009.scavengerhunt': 'is',\n",
       " '.0001.scavengerhunt': 'In'}"
      ]
     },
     "execution_count": 17,
     "metadata": {},
     "output_type": "execute_result"
    }
   ],
   "source": [
    "secret_keys"
   ]
  },
  {
   "cell_type": "code",
   "execution_count": 18,
   "id": "d6d031a5",
   "metadata": {},
   "outputs": [
    {
     "data": {
      "text/plain": [
       "OrderedDict([('.0001.scavengerhunt', 'In'),\n",
       "             ('.0002.scavengerhunt', 'data'),\n",
       "             ('.0003.scavengerhunt', 'science,'),\n",
       "             ('.0004.scavengerhunt', '80'),\n",
       "             ('.0005.scavengerhunt', 'percent'),\n",
       "             ('.0006.scavengerhunt', 'of'),\n",
       "             ('.0007.scavengerhunt', 'time'),\n",
       "             ('.0008.scavengerhunt', 'spent'),\n",
       "             ('.0009.scavengerhunt', 'is'),\n",
       "             ('.0010.scavengerhunt', 'preparing'),\n",
       "             ('.0011.scavengerhunt', 'data,'),\n",
       "             ('.0012.scavengerhunt', '20'),\n",
       "             ('.0013.scavengerhunt', 'percent'),\n",
       "             ('.0014.scavengerhunt', 'of'),\n",
       "             ('.0015.scavengerhunt', 'time'),\n",
       "             ('.0016.scavengerhunt', 'is'),\n",
       "             ('.0017.scavengerhunt', 'spent'),\n",
       "             ('.0018.scavengerhunt', 'complaining'),\n",
       "             ('.0019.scavengerhunt', 'about'),\n",
       "             ('.0020.scavengerhunt', 'the'),\n",
       "             ('.0021.scavengerhunt', 'need'),\n",
       "             ('.0022.scavengerhunt', 'to'),\n",
       "             ('.0023.scavengerhunt', 'prepare'),\n",
       "             ('.0024.scavengerhunt', 'data.')])"
      ]
     },
     "execution_count": 18,
     "metadata": {},
     "output_type": "execute_result"
    }
   ],
   "source": [
    "import collections\n",
    "sort= collections.OrderedDict(sorted(secret_keys.items()))\n",
    "sort"
   ]
  },
  {
   "cell_type": "code",
   "execution_count": 19,
   "id": "f69be953",
   "metadata": {},
   "outputs": [],
   "source": [
    "new = []\n",
    "for key , value in sort.items():\n",
    "    new.append(value)"
   ]
  },
  {
   "cell_type": "code",
   "execution_count": 20,
   "id": "static-stopping",
   "metadata": {},
   "outputs": [],
   "source": [
    "new_new = \" \".join(new)"
   ]
  },
  {
   "cell_type": "code",
   "execution_count": 21,
   "id": "b11e0285",
   "metadata": {},
   "outputs": [
    {
     "name": "stdout",
     "output_type": "stream",
     "text": [
      "In data science, 80 percent of time spent is preparing data, 20 percent of time is spent complaining about the need to prepare data.\n"
     ]
    }
   ],
   "source": [
    "print(new_new)"
   ]
  },
  {
   "cell_type": "code",
   "execution_count": null,
   "id": "b5287018",
   "metadata": {},
   "outputs": [],
   "source": []
  }
 ],
 "metadata": {
  "kernelspec": {
   "display_name": "Python 3 (ipykernel)",
   "language": "python",
   "name": "python3"
  },
  "language_info": {
   "codemirror_mode": {
    "name": "ipython",
    "version": 3
   },
   "file_extension": ".py",
   "mimetype": "text/x-python",
   "name": "python",
   "nbconvert_exporter": "python",
   "pygments_lexer": "ipython3",
   "version": "3.9.12"
  },
  "toc": {
   "base_numbering": 1,
   "nav_menu": {},
   "number_sections": true,
   "sideBar": true,
   "skip_h1_title": true,
   "title_cell": "Table of Contents",
   "title_sidebar": "Contents",
   "toc_cell": false,
   "toc_position": {},
   "toc_section_display": true,
   "toc_window_display": true
  }
 },
 "nbformat": 4,
 "nbformat_minor": 5
}
