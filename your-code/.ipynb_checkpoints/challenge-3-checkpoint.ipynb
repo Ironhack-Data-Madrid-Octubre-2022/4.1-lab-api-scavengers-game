{
 "cells": [
  {
   "cell_type": "markdown",
   "id": "defensive-clock",
   "metadata": {},
   "source": [
    "# Challenge 3: Hidden Cold Joke\n",
    "\n",
    "Using Python, call Github API to find out the cold joke contained in the 24 secret files in the following repo:\n",
    "\n",
    "https://github.com/ironhack-datalabs/scavenger\n",
    "\n",
    "The filenames of the secret files contain .scavengerhunt and they are scattered in different directories of this repo. The secret files are named from .0001.scavengerhunt to .0024.scavengerhunt. They are scattered randomly throughout this repo. You need to search for these files by calling the Github API, not searching the local files on your computer.\n",
    "\n",
    "\n",
    "After you find out the secrete files:\n",
    "\n",
    "Sort the filenames ascendingly.\n",
    "\n",
    "Read the content of each secret files into an array of strings.\n",
    "\n",
    "Concatenate the strings in the array separating each two with a whitespace.\n",
    "\n",
    "Print out the joke."
   ]
  },
  {
   "cell_type": "markdown",
   "id": "universal-length",
   "metadata": {},
   "source": [
    "⚠️ **Remember to limit your output before submission**."
   ]
  },
  {
   "cell_type": "code",
   "execution_count": 1,
   "id": "toxic-trading",
   "metadata": {},
   "outputs": [],
   "source": [
    "# Your code\n",
    "import requests as req"
   ]
  },
  {
   "cell_type": "code",
   "execution_count": 2,
   "id": "static-stopping",
   "metadata": {},
   "outputs": [],
   "source": [
    "rep_prin = 'ironhack-datalabs/scavenger'"
   ]
  },
  {
   "cell_type": "code",
   "execution_count": 3,
   "id": "2c43b945",
   "metadata": {},
   "outputs": [],
   "source": [
    "with open('../../pass_.txt', 'r') as file:\n",
    "    pass_ = file.read()"
   ]
  },
  {
   "cell_type": "code",
   "execution_count": 4,
   "id": "c9cf1003",
   "metadata": {},
   "outputs": [
    {
     "data": {
      "text/plain": [
       "<Response [200]>"
      ]
     },
     "execution_count": 4,
     "metadata": {},
     "output_type": "execute_result"
    }
   ],
   "source": [
    "url='https://api.github.com/'\n",
    "header={'Authorization': 'token ' + pass_}\n",
    "\n",
    "res_git=req.get(url, headers=header)\n",
    "\n",
    "res_git"
   ]
  },
  {
   "cell_type": "code",
   "execution_count": 5,
   "id": "94eaba38",
   "metadata": {},
   "outputs": [
    {
     "data": {
      "text/plain": [
       "{'current_user_url': 'https://api.github.com/user',\n",
       " 'current_user_authorizations_html_url': 'https://github.com/settings/connections/applications{/client_id}',\n",
       " 'authorizations_url': 'https://api.github.com/authorizations',\n",
       " 'code_search_url': 'https://api.github.com/search/code?q={query}{&page,per_page,sort,order}',\n",
       " 'commit_search_url': 'https://api.github.com/search/commits?q={query}{&page,per_page,sort,order}',\n",
       " 'emails_url': 'https://api.github.com/user/emails',\n",
       " 'emojis_url': 'https://api.github.com/emojis',\n",
       " 'events_url': 'https://api.github.com/events',\n",
       " 'feeds_url': 'https://api.github.com/feeds',\n",
       " 'followers_url': 'https://api.github.com/user/followers',\n",
       " 'following_url': 'https://api.github.com/user/following{/target}',\n",
       " 'gists_url': 'https://api.github.com/gists{/gist_id}',\n",
       " 'hub_url': 'https://api.github.com/hub',\n",
       " 'issue_search_url': 'https://api.github.com/search/issues?q={query}{&page,per_page,sort,order}',\n",
       " 'issues_url': 'https://api.github.com/issues',\n",
       " 'keys_url': 'https://api.github.com/user/keys',\n",
       " 'label_search_url': 'https://api.github.com/search/labels?q={query}&repository_id={repository_id}{&page,per_page}',\n",
       " 'notifications_url': 'https://api.github.com/notifications',\n",
       " 'organization_url': 'https://api.github.com/orgs/{org}',\n",
       " 'organization_repositories_url': 'https://api.github.com/orgs/{org}/repos{?type,page,per_page,sort}',\n",
       " 'organization_teams_url': 'https://api.github.com/orgs/{org}/teams',\n",
       " 'public_gists_url': 'https://api.github.com/gists/public',\n",
       " 'rate_limit_url': 'https://api.github.com/rate_limit',\n",
       " 'repository_url': 'https://api.github.com/repos/{owner}/{repo}',\n",
       " 'repository_search_url': 'https://api.github.com/search/repositories?q={query}{&page,per_page,sort,order}',\n",
       " 'current_user_repositories_url': 'https://api.github.com/user/repos{?type,page,per_page,sort}',\n",
       " 'starred_url': 'https://api.github.com/user/starred{/owner}{/repo}',\n",
       " 'starred_gists_url': 'https://api.github.com/gists/starred',\n",
       " 'topic_search_url': 'https://api.github.com/search/topics?q={query}{&page,per_page}',\n",
       " 'user_url': 'https://api.github.com/users/{user}',\n",
       " 'user_organizations_url': 'https://api.github.com/user/orgs',\n",
       " 'user_repositories_url': 'https://api.github.com/users/{user}/repos{?type,page,per_page,sort}',\n",
       " 'user_search_url': 'https://api.github.com/search/users?q={query}{&page,per_page,sort,order}'}"
      ]
     },
     "execution_count": 5,
     "metadata": {},
     "output_type": "execute_result"
    }
   ],
   "source": [
    "res_git.json()"
   ]
  },
  {
   "cell_type": "code",
   "execution_count": 6,
   "id": "c77d2d24",
   "metadata": {},
   "outputs": [],
   "source": [
    "api = res_git.json()['repository_search_url']"
   ]
  },
  {
   "cell_type": "code",
   "execution_count": 7,
   "id": "797f32bc",
   "metadata": {},
   "outputs": [],
   "source": [
    "url_repo = ''\n",
    "for x in api:\n",
    "    if '{' in x:\n",
    "        break\n",
    "    else:\n",
    "        url_repo += x\n",
    "url_repo +=  rep_prin"
   ]
  },
  {
   "cell_type": "code",
   "execution_count": 8,
   "id": "80370dd3",
   "metadata": {},
   "outputs": [
    {
     "data": {
      "text/plain": [
       "'https://api.github.com/search/repositories?q=ironhack-datalabs/scavenger'"
      ]
     },
     "execution_count": 8,
     "metadata": {},
     "output_type": "execute_result"
    }
   ],
   "source": [
    "url_repo"
   ]
  },
  {
   "cell_type": "code",
   "execution_count": 9,
   "id": "737a91fe",
   "metadata": {},
   "outputs": [
    {
     "data": {
      "text/plain": [
       "<Response [200]>"
      ]
     },
     "execution_count": 9,
     "metadata": {},
     "output_type": "execute_result"
    }
   ],
   "source": [
    "res_git=req.get(url_repo, headers=header)\n",
    "\n",
    "res_git"
   ]
  },
  {
   "cell_type": "code",
   "execution_count": 10,
   "id": "c10bb730",
   "metadata": {},
   "outputs": [
    {
     "data": {
      "text/plain": [
       "{'total_count': 1,\n",
       " 'incomplete_results': False,\n",
       " 'items': [{'id': 162375181,\n",
       "   'node_id': 'MDEwOlJlcG9zaXRvcnkxNjIzNzUxODE=',\n",
       "   'name': 'scavenger',\n",
       "   'full_name': 'ironhack-datalabs/scavenger',\n",
       "   'private': False,\n",
       "   'owner': {'login': 'ironhack-datalabs',\n",
       "    'id': 44225188,\n",
       "    'node_id': 'MDEyOk9yZ2FuaXphdGlvbjQ0MjI1MTg4',\n",
       "    'avatar_url': 'https://avatars.githubusercontent.com/u/44225188?v=4',\n",
       "    'gravatar_id': '',\n",
       "    'url': 'https://api.github.com/users/ironhack-datalabs',\n",
       "    'html_url': 'https://github.com/ironhack-datalabs',\n",
       "    'followers_url': 'https://api.github.com/users/ironhack-datalabs/followers',\n",
       "    'following_url': 'https://api.github.com/users/ironhack-datalabs/following{/other_user}',\n",
       "    'gists_url': 'https://api.github.com/users/ironhack-datalabs/gists{/gist_id}',\n",
       "    'starred_url': 'https://api.github.com/users/ironhack-datalabs/starred{/owner}{/repo}',\n",
       "    'subscriptions_url': 'https://api.github.com/users/ironhack-datalabs/subscriptions',\n",
       "    'organizations_url': 'https://api.github.com/users/ironhack-datalabs/orgs',\n",
       "    'repos_url': 'https://api.github.com/users/ironhack-datalabs/repos',\n",
       "    'events_url': 'https://api.github.com/users/ironhack-datalabs/events{/privacy}',\n",
       "    'received_events_url': 'https://api.github.com/users/ironhack-datalabs/received_events',\n",
       "    'type': 'Organization',\n",
       "    'site_admin': False},\n",
       "   'html_url': 'https://github.com/ironhack-datalabs/scavenger',\n",
       "   'description': None,\n",
       "   'fork': False,\n",
       "   'url': 'https://api.github.com/repos/ironhack-datalabs/scavenger',\n",
       "   'forks_url': 'https://api.github.com/repos/ironhack-datalabs/scavenger/forks',\n",
       "   'keys_url': 'https://api.github.com/repos/ironhack-datalabs/scavenger/keys{/key_id}',\n",
       "   'collaborators_url': 'https://api.github.com/repos/ironhack-datalabs/scavenger/collaborators{/collaborator}',\n",
       "   'teams_url': 'https://api.github.com/repos/ironhack-datalabs/scavenger/teams',\n",
       "   'hooks_url': 'https://api.github.com/repos/ironhack-datalabs/scavenger/hooks',\n",
       "   'issue_events_url': 'https://api.github.com/repos/ironhack-datalabs/scavenger/issues/events{/number}',\n",
       "   'events_url': 'https://api.github.com/repos/ironhack-datalabs/scavenger/events',\n",
       "   'assignees_url': 'https://api.github.com/repos/ironhack-datalabs/scavenger/assignees{/user}',\n",
       "   'branches_url': 'https://api.github.com/repos/ironhack-datalabs/scavenger/branches{/branch}',\n",
       "   'tags_url': 'https://api.github.com/repos/ironhack-datalabs/scavenger/tags',\n",
       "   'blobs_url': 'https://api.github.com/repos/ironhack-datalabs/scavenger/git/blobs{/sha}',\n",
       "   'git_tags_url': 'https://api.github.com/repos/ironhack-datalabs/scavenger/git/tags{/sha}',\n",
       "   'git_refs_url': 'https://api.github.com/repos/ironhack-datalabs/scavenger/git/refs{/sha}',\n",
       "   'trees_url': 'https://api.github.com/repos/ironhack-datalabs/scavenger/git/trees{/sha}',\n",
       "   'statuses_url': 'https://api.github.com/repos/ironhack-datalabs/scavenger/statuses/{sha}',\n",
       "   'languages_url': 'https://api.github.com/repos/ironhack-datalabs/scavenger/languages',\n",
       "   'stargazers_url': 'https://api.github.com/repos/ironhack-datalabs/scavenger/stargazers',\n",
       "   'contributors_url': 'https://api.github.com/repos/ironhack-datalabs/scavenger/contributors',\n",
       "   'subscribers_url': 'https://api.github.com/repos/ironhack-datalabs/scavenger/subscribers',\n",
       "   'subscription_url': 'https://api.github.com/repos/ironhack-datalabs/scavenger/subscription',\n",
       "   'commits_url': 'https://api.github.com/repos/ironhack-datalabs/scavenger/commits{/sha}',\n",
       "   'git_commits_url': 'https://api.github.com/repos/ironhack-datalabs/scavenger/git/commits{/sha}',\n",
       "   'comments_url': 'https://api.github.com/repos/ironhack-datalabs/scavenger/comments{/number}',\n",
       "   'issue_comment_url': 'https://api.github.com/repos/ironhack-datalabs/scavenger/issues/comments{/number}',\n",
       "   'contents_url': 'https://api.github.com/repos/ironhack-datalabs/scavenger/contents/{+path}',\n",
       "   'compare_url': 'https://api.github.com/repos/ironhack-datalabs/scavenger/compare/{base}...{head}',\n",
       "   'merges_url': 'https://api.github.com/repos/ironhack-datalabs/scavenger/merges',\n",
       "   'archive_url': 'https://api.github.com/repos/ironhack-datalabs/scavenger/{archive_format}{/ref}',\n",
       "   'downloads_url': 'https://api.github.com/repos/ironhack-datalabs/scavenger/downloads',\n",
       "   'issues_url': 'https://api.github.com/repos/ironhack-datalabs/scavenger/issues{/number}',\n",
       "   'pulls_url': 'https://api.github.com/repos/ironhack-datalabs/scavenger/pulls{/number}',\n",
       "   'milestones_url': 'https://api.github.com/repos/ironhack-datalabs/scavenger/milestones{/number}',\n",
       "   'notifications_url': 'https://api.github.com/repos/ironhack-datalabs/scavenger/notifications{?since,all,participating}',\n",
       "   'labels_url': 'https://api.github.com/repos/ironhack-datalabs/scavenger/labels{/name}',\n",
       "   'releases_url': 'https://api.github.com/repos/ironhack-datalabs/scavenger/releases{/id}',\n",
       "   'deployments_url': 'https://api.github.com/repos/ironhack-datalabs/scavenger/deployments',\n",
       "   'created_at': '2018-12-19T03:01:30Z',\n",
       "   'updated_at': '2018-12-19T03:05:09Z',\n",
       "   'pushed_at': '2018-12-19T03:05:07Z',\n",
       "   'git_url': 'git://github.com/ironhack-datalabs/scavenger.git',\n",
       "   'ssh_url': 'git@github.com:ironhack-datalabs/scavenger.git',\n",
       "   'clone_url': 'https://github.com/ironhack-datalabs/scavenger.git',\n",
       "   'svn_url': 'https://github.com/ironhack-datalabs/scavenger',\n",
       "   'homepage': None,\n",
       "   'size': 3,\n",
       "   'stargazers_count': 0,\n",
       "   'watchers_count': 0,\n",
       "   'language': None,\n",
       "   'has_issues': True,\n",
       "   'has_projects': True,\n",
       "   'has_downloads': True,\n",
       "   'has_wiki': True,\n",
       "   'has_pages': False,\n",
       "   'forks_count': 19,\n",
       "   'mirror_url': None,\n",
       "   'archived': False,\n",
       "   'disabled': False,\n",
       "   'open_issues_count': 0,\n",
       "   'license': None,\n",
       "   'allow_forking': True,\n",
       "   'is_template': False,\n",
       "   'web_commit_signoff_required': False,\n",
       "   'topics': [],\n",
       "   'visibility': 'public',\n",
       "   'forks': 19,\n",
       "   'open_issues': 0,\n",
       "   'watchers': 0,\n",
       "   'default_branch': 'master',\n",
       "   'permissions': {'admin': False,\n",
       "    'maintain': False,\n",
       "    'push': False,\n",
       "    'triage': False,\n",
       "    'pull': True},\n",
       "   'score': 1.0}]}"
      ]
     },
     "execution_count": 10,
     "metadata": {},
     "output_type": "execute_result"
    }
   ],
   "source": [
    "res_git.json()"
   ]
  },
  {
   "cell_type": "code",
   "execution_count": 11,
   "id": "2261b3c5",
   "metadata": {},
   "outputs": [
    {
     "data": {
      "text/plain": [
       "'https://api.github.com/repos/ironhack-datalabs/scavenger/contents/{+path}'"
      ]
     },
     "execution_count": 11,
     "metadata": {},
     "output_type": "execute_result"
    }
   ],
   "source": [
    "url_commi = res_git.json()['items'][0]['contents_url']\n",
    "url_commi"
   ]
  },
  {
   "cell_type": "code",
   "execution_count": 12,
   "id": "51025425",
   "metadata": {},
   "outputs": [
    {
     "data": {
      "text/plain": [
       "'https://api.github.com/repos/ironhack-datalabs/scavenger/contents/'"
      ]
     },
     "execution_count": 12,
     "metadata": {},
     "output_type": "execute_result"
    }
   ],
   "source": [
    "url_repo_com = ''\n",
    "for x in url_commi:\n",
    "    if '{' in x:\n",
    "        break\n",
    "    else:\n",
    "        url_repo_com += x\n",
    "url_repo_com"
   ]
  },
  {
   "cell_type": "code",
   "execution_count": 13,
   "id": "6bbbecca",
   "metadata": {},
   "outputs": [
    {
     "data": {
      "text/plain": [
       "<Response [200]>"
      ]
     },
     "execution_count": 13,
     "metadata": {},
     "output_type": "execute_result"
    }
   ],
   "source": [
    "res_git=req.get(url_repo_com, headers=header)\n",
    "\n",
    "res_git"
   ]
  },
  {
   "cell_type": "code",
   "execution_count": 14,
   "id": "90e85214",
   "metadata": {},
   "outputs": [
    {
     "data": {
      "text/plain": [
       "{'name': '.gitignore',\n",
       " 'path': '.gitignore',\n",
       " 'sha': 'e43b0f988953ae3a84b00331d0ccf5f7d51cb3cf',\n",
       " 'size': 10,\n",
       " 'url': 'https://api.github.com/repos/ironhack-datalabs/scavenger/contents/.gitignore?ref=master',\n",
       " 'html_url': 'https://github.com/ironhack-datalabs/scavenger/blob/master/.gitignore',\n",
       " 'git_url': 'https://api.github.com/repos/ironhack-datalabs/scavenger/git/blobs/e43b0f988953ae3a84b00331d0ccf5f7d51cb3cf',\n",
       " 'download_url': 'https://raw.githubusercontent.com/ironhack-datalabs/scavenger/master/.gitignore',\n",
       " 'type': 'file',\n",
       " '_links': {'self': 'https://api.github.com/repos/ironhack-datalabs/scavenger/contents/.gitignore?ref=master',\n",
       "  'git': 'https://api.github.com/repos/ironhack-datalabs/scavenger/git/blobs/e43b0f988953ae3a84b00331d0ccf5f7d51cb3cf',\n",
       "  'html': 'https://github.com/ironhack-datalabs/scavenger/blob/master/.gitignore'}}"
      ]
     },
     "execution_count": 14,
     "metadata": {},
     "output_type": "execute_result"
    }
   ],
   "source": [
    "res_git.json()[0]"
   ]
  },
  {
   "cell_type": "code",
   "execution_count": 15,
   "id": "bf089b75",
   "metadata": {},
   "outputs": [
    {
     "data": {
      "text/plain": [
       "['15024',\n",
       " '15534',\n",
       " '17020',\n",
       " '30351',\n",
       " '40303',\n",
       " '44639',\n",
       " '45525',\n",
       " '47222',\n",
       " '47830',\n",
       " '49418',\n",
       " '50896',\n",
       " '55417',\n",
       " '55685',\n",
       " '60224',\n",
       " '64880',\n",
       " '66032',\n",
       " '68848',\n",
       " '70751',\n",
       " '70985',\n",
       " '88596',\n",
       " '89046',\n",
       " '89338',\n",
       " '91701',\n",
       " '97881',\n",
       " '98750']"
      ]
     },
     "execution_count": 15,
     "metadata": {},
     "output_type": "execute_result"
    }
   ],
   "source": [
    "lista_nom = []\n",
    "import re\n",
    "for x in range(len(res_git.json())):\n",
    "    if re.findall('\\d+', res_git.json()[x]['name']):\n",
    "        lista_nom.append(res_git.json()[x]['name'])\n",
    "    \n",
    "lista_nom"
   ]
  },
  {
   "cell_type": "code",
   "execution_count": 16,
   "id": "e1a1bed2",
   "metadata": {},
   "outputs": [
    {
     "data": {
      "text/plain": [
       "['https://api.github.com/repos/ironhack-datalabs/scavenger/contents/15024',\n",
       " 'https://api.github.com/repos/ironhack-datalabs/scavenger/contents/15534',\n",
       " 'https://api.github.com/repos/ironhack-datalabs/scavenger/contents/17020',\n",
       " 'https://api.github.com/repos/ironhack-datalabs/scavenger/contents/30351',\n",
       " 'https://api.github.com/repos/ironhack-datalabs/scavenger/contents/40303',\n",
       " 'https://api.github.com/repos/ironhack-datalabs/scavenger/contents/44639',\n",
       " 'https://api.github.com/repos/ironhack-datalabs/scavenger/contents/45525',\n",
       " 'https://api.github.com/repos/ironhack-datalabs/scavenger/contents/47222',\n",
       " 'https://api.github.com/repos/ironhack-datalabs/scavenger/contents/47830',\n",
       " 'https://api.github.com/repos/ironhack-datalabs/scavenger/contents/49418',\n",
       " 'https://api.github.com/repos/ironhack-datalabs/scavenger/contents/50896',\n",
       " 'https://api.github.com/repos/ironhack-datalabs/scavenger/contents/55417',\n",
       " 'https://api.github.com/repos/ironhack-datalabs/scavenger/contents/55685',\n",
       " 'https://api.github.com/repos/ironhack-datalabs/scavenger/contents/60224',\n",
       " 'https://api.github.com/repos/ironhack-datalabs/scavenger/contents/64880',\n",
       " 'https://api.github.com/repos/ironhack-datalabs/scavenger/contents/66032',\n",
       " 'https://api.github.com/repos/ironhack-datalabs/scavenger/contents/68848',\n",
       " 'https://api.github.com/repos/ironhack-datalabs/scavenger/contents/70751',\n",
       " 'https://api.github.com/repos/ironhack-datalabs/scavenger/contents/70985',\n",
       " 'https://api.github.com/repos/ironhack-datalabs/scavenger/contents/88596',\n",
       " 'https://api.github.com/repos/ironhack-datalabs/scavenger/contents/89046',\n",
       " 'https://api.github.com/repos/ironhack-datalabs/scavenger/contents/89338',\n",
       " 'https://api.github.com/repos/ironhack-datalabs/scavenger/contents/91701',\n",
       " 'https://api.github.com/repos/ironhack-datalabs/scavenger/contents/97881',\n",
       " 'https://api.github.com/repos/ironhack-datalabs/scavenger/contents/98750']"
      ]
     },
     "execution_count": 16,
     "metadata": {},
     "output_type": "execute_result"
    }
   ],
   "source": [
    "urls_carpetas = []\n",
    "for x in range(len(lista_nom)):\n",
    "    urls_carpetas.append(url_repo_com + lista_nom[x])\n",
    "\n",
    "urls_carpetas"
   ]
  },
  {
   "cell_type": "code",
   "execution_count": 17,
   "id": "74366c5b",
   "metadata": {},
   "outputs": [],
   "source": [
    "lista_ocul = []\n",
    "nulo = 0\n",
    "lista_enteras = []\n",
    "for i in urls_carpetas:\n",
    "    res_git=req.get(i, headers=header)\n",
    "    for x in range(len(res_git.json())):\n",
    "        if re.findall('\\.\\d+', res_git.json()[x]['name']):\n",
    "            lista_enteras.append(i)\n",
    "            lista_ocul.append(res_git.json()[x]['name'])"
   ]
  },
  {
   "cell_type": "code",
   "execution_count": 18,
   "id": "1829c3bc",
   "metadata": {},
   "outputs": [
    {
     "data": {
      "text/plain": [
       "{'name': '.0001.scavengerhunt',\n",
       " 'path': '98750/.0001.scavengerhunt',\n",
       " 'sha': '2add7632f1323136324efbf38ec66db1838b6173',\n",
       " 'size': 3,\n",
       " 'url': 'https://api.github.com/repos/ironhack-datalabs/scavenger/contents/98750/.0001.scavengerhunt?ref=master',\n",
       " 'html_url': 'https://github.com/ironhack-datalabs/scavenger/blob/master/98750/.0001.scavengerhunt',\n",
       " 'git_url': 'https://api.github.com/repos/ironhack-datalabs/scavenger/git/blobs/2add7632f1323136324efbf38ec66db1838b6173',\n",
       " 'download_url': 'https://raw.githubusercontent.com/ironhack-datalabs/scavenger/master/98750/.0001.scavengerhunt',\n",
       " 'type': 'file',\n",
       " '_links': {'self': 'https://api.github.com/repos/ironhack-datalabs/scavenger/contents/98750/.0001.scavengerhunt?ref=master',\n",
       "  'git': 'https://api.github.com/repos/ironhack-datalabs/scavenger/git/blobs/2add7632f1323136324efbf38ec66db1838b6173',\n",
       "  'html': 'https://github.com/ironhack-datalabs/scavenger/blob/master/98750/.0001.scavengerhunt'}}"
      ]
     },
     "execution_count": 18,
     "metadata": {},
     "output_type": "execute_result"
    }
   ],
   "source": [
    "res_git.json()[0]"
   ]
  },
  {
   "cell_type": "code",
   "execution_count": 19,
   "id": "d7664fe6",
   "metadata": {},
   "outputs": [
    {
     "data": {
      "text/plain": [
       "(['.0006.scavengerhunt',\n",
       "  '.0008.scavengerhunt',\n",
       "  '.0012.scavengerhunt',\n",
       "  '.0007.scavengerhunt',\n",
       "  '.0021.scavengerhunt',\n",
       "  '.0022.scavengerhunt',\n",
       "  '.0005.scavengerhunt',\n",
       "  '.0018.scavengerhunt',\n",
       "  '.0016.scavengerhunt',\n",
       "  '.0024.scavengerhunt',\n",
       "  '.0010.scavengerhunt',\n",
       "  '.0014.scavengerhunt',\n",
       "  '.0011.scavengerhunt',\n",
       "  '.0023.scavengerhunt',\n",
       "  '.0020.scavengerhunt',\n",
       "  '.0003.scavengerhunt',\n",
       "  '.0004.scavengerhunt',\n",
       "  '.0019.scavengerhunt',\n",
       "  '.0017.scavengerhunt',\n",
       "  '.0002.scavengerhunt',\n",
       "  '.0013.scavengerhunt',\n",
       "  '.0015.scavengerhunt',\n",
       "  '.0009.scavengerhunt',\n",
       "  '.0001.scavengerhunt'],\n",
       " ['https://api.github.com/repos/ironhack-datalabs/scavenger/contents/15024',\n",
       "  'https://api.github.com/repos/ironhack-datalabs/scavenger/contents/15534',\n",
       "  'https://api.github.com/repos/ironhack-datalabs/scavenger/contents/15534',\n",
       "  'https://api.github.com/repos/ironhack-datalabs/scavenger/contents/17020',\n",
       "  'https://api.github.com/repos/ironhack-datalabs/scavenger/contents/30351',\n",
       "  'https://api.github.com/repos/ironhack-datalabs/scavenger/contents/40303',\n",
       "  'https://api.github.com/repos/ironhack-datalabs/scavenger/contents/44639',\n",
       "  'https://api.github.com/repos/ironhack-datalabs/scavenger/contents/45525',\n",
       "  'https://api.github.com/repos/ironhack-datalabs/scavenger/contents/47222',\n",
       "  'https://api.github.com/repos/ironhack-datalabs/scavenger/contents/47222',\n",
       "  'https://api.github.com/repos/ironhack-datalabs/scavenger/contents/47830',\n",
       "  'https://api.github.com/repos/ironhack-datalabs/scavenger/contents/49418',\n",
       "  'https://api.github.com/repos/ironhack-datalabs/scavenger/contents/50896',\n",
       "  'https://api.github.com/repos/ironhack-datalabs/scavenger/contents/55417',\n",
       "  'https://api.github.com/repos/ironhack-datalabs/scavenger/contents/55685',\n",
       "  'https://api.github.com/repos/ironhack-datalabs/scavenger/contents/60224',\n",
       "  'https://api.github.com/repos/ironhack-datalabs/scavenger/contents/68848',\n",
       "  'https://api.github.com/repos/ironhack-datalabs/scavenger/contents/70751',\n",
       "  'https://api.github.com/repos/ironhack-datalabs/scavenger/contents/70985',\n",
       "  'https://api.github.com/repos/ironhack-datalabs/scavenger/contents/88596',\n",
       "  'https://api.github.com/repos/ironhack-datalabs/scavenger/contents/89338',\n",
       "  'https://api.github.com/repos/ironhack-datalabs/scavenger/contents/91701',\n",
       "  'https://api.github.com/repos/ironhack-datalabs/scavenger/contents/97881',\n",
       "  'https://api.github.com/repos/ironhack-datalabs/scavenger/contents/98750'])"
      ]
     },
     "execution_count": 19,
     "metadata": {},
     "output_type": "execute_result"
    }
   ],
   "source": [
    "lista_ocul, lista_enteras"
   ]
  },
  {
   "cell_type": "code",
   "execution_count": 20,
   "id": "b7751617",
   "metadata": {},
   "outputs": [
    {
     "data": {
      "text/plain": [
       "['https://api.github.com/repos/ironhack-datalabs/scavenger/contents/15024/.0006.scavengerhunt',\n",
       " 'https://api.github.com/repos/ironhack-datalabs/scavenger/contents/15534/.0008.scavengerhunt',\n",
       " 'https://api.github.com/repos/ironhack-datalabs/scavenger/contents/15534/.0012.scavengerhunt',\n",
       " 'https://api.github.com/repos/ironhack-datalabs/scavenger/contents/17020/.0007.scavengerhunt',\n",
       " 'https://api.github.com/repos/ironhack-datalabs/scavenger/contents/30351/.0021.scavengerhunt',\n",
       " 'https://api.github.com/repos/ironhack-datalabs/scavenger/contents/40303/.0022.scavengerhunt',\n",
       " 'https://api.github.com/repos/ironhack-datalabs/scavenger/contents/44639/.0005.scavengerhunt',\n",
       " 'https://api.github.com/repos/ironhack-datalabs/scavenger/contents/45525/.0018.scavengerhunt',\n",
       " 'https://api.github.com/repos/ironhack-datalabs/scavenger/contents/47222/.0016.scavengerhunt',\n",
       " 'https://api.github.com/repos/ironhack-datalabs/scavenger/contents/47222/.0024.scavengerhunt',\n",
       " 'https://api.github.com/repos/ironhack-datalabs/scavenger/contents/47830/.0010.scavengerhunt',\n",
       " 'https://api.github.com/repos/ironhack-datalabs/scavenger/contents/49418/.0014.scavengerhunt',\n",
       " 'https://api.github.com/repos/ironhack-datalabs/scavenger/contents/50896/.0011.scavengerhunt',\n",
       " 'https://api.github.com/repos/ironhack-datalabs/scavenger/contents/55417/.0023.scavengerhunt',\n",
       " 'https://api.github.com/repos/ironhack-datalabs/scavenger/contents/55685/.0020.scavengerhunt',\n",
       " 'https://api.github.com/repos/ironhack-datalabs/scavenger/contents/60224/.0003.scavengerhunt',\n",
       " 'https://api.github.com/repos/ironhack-datalabs/scavenger/contents/68848/.0004.scavengerhunt',\n",
       " 'https://api.github.com/repos/ironhack-datalabs/scavenger/contents/70751/.0019.scavengerhunt',\n",
       " 'https://api.github.com/repos/ironhack-datalabs/scavenger/contents/70985/.0017.scavengerhunt',\n",
       " 'https://api.github.com/repos/ironhack-datalabs/scavenger/contents/88596/.0002.scavengerhunt',\n",
       " 'https://api.github.com/repos/ironhack-datalabs/scavenger/contents/89338/.0013.scavengerhunt',\n",
       " 'https://api.github.com/repos/ironhack-datalabs/scavenger/contents/91701/.0015.scavengerhunt',\n",
       " 'https://api.github.com/repos/ironhack-datalabs/scavenger/contents/97881/.0009.scavengerhunt',\n",
       " 'https://api.github.com/repos/ironhack-datalabs/scavenger/contents/98750/.0001.scavengerhunt']"
      ]
     },
     "execution_count": 20,
     "metadata": {},
     "output_type": "execute_result"
    }
   ],
   "source": [
    "urls_archivos = []\n",
    "for x in range(len(lista_ocul)):\n",
    "    urls_archivos.append(lista_enteras[x] + '/'+ lista_ocul[x])\n",
    "\n",
    "urls_archivos"
   ]
  },
  {
   "cell_type": "code",
   "execution_count": 21,
   "id": "15cfa862",
   "metadata": {},
   "outputs": [
    {
     "data": {
      "text/plain": [
       "<Response [200]>"
      ]
     },
     "execution_count": 21,
     "metadata": {},
     "output_type": "execute_result"
    }
   ],
   "source": [
    "res_git=req.get(urls_archivos[0], headers=header)\n",
    "res_git"
   ]
  },
  {
   "cell_type": "code",
   "execution_count": 22,
   "id": "ae618674",
   "metadata": {},
   "outputs": [
    {
     "data": {
      "text/plain": [
       "'b2YK\\n'"
      ]
     },
     "execution_count": 22,
     "metadata": {},
     "output_type": "execute_result"
    }
   ],
   "source": [
    "res_git.json()['content']"
   ]
  },
  {
   "cell_type": "code",
   "execution_count": 23,
   "id": "490f6df6",
   "metadata": {},
   "outputs": [
    {
     "data": {
      "text/plain": [
       "b'of\\n'"
      ]
     },
     "execution_count": 23,
     "metadata": {},
     "output_type": "execute_result"
    }
   ],
   "source": [
    "import base64\n",
    "deco = base64.b64decode(res_git.json()['content'])\n",
    "deco"
   ]
  },
  {
   "cell_type": "code",
   "execution_count": 45,
   "id": "7aa2b8b0",
   "metadata": {},
   "outputs": [
    {
     "data": {
      "text/plain": [
       "'of'"
      ]
     },
     "execution_count": 45,
     "metadata": {},
     "output_type": "execute_result"
    }
   ],
   "source": [
    "str(deco).split('\\\\')[0].split('\\'')[1]"
   ]
  },
  {
   "cell_type": "code",
   "execution_count": 24,
   "id": "3efb21cf",
   "metadata": {},
   "outputs": [
    {
     "data": {
      "text/plain": [
       "'06'"
      ]
     },
     "execution_count": 24,
     "metadata": {},
     "output_type": "execute_result"
    }
   ],
   "source": [
    "urls_archivos[0][75:77]"
   ]
  },
  {
   "cell_type": "code",
   "execution_count": 41,
   "id": "553b8975",
   "metadata": {},
   "outputs": [
    {
     "data": {
      "text/plain": [
       "['https://api.github.com/repos/ironhack-datalabs/scavenger/contents/98750/.0001.scavengerhunt',\n",
       " 'https://api.github.com/repos/ironhack-datalabs/scavenger/contents/88596/.0002.scavengerhunt',\n",
       " 'https://api.github.com/repos/ironhack-datalabs/scavenger/contents/60224/.0003.scavengerhunt',\n",
       " 'https://api.github.com/repos/ironhack-datalabs/scavenger/contents/68848/.0004.scavengerhunt',\n",
       " 'https://api.github.com/repos/ironhack-datalabs/scavenger/contents/44639/.0005.scavengerhunt',\n",
       " 'https://api.github.com/repos/ironhack-datalabs/scavenger/contents/15024/.0006.scavengerhunt',\n",
       " 'https://api.github.com/repos/ironhack-datalabs/scavenger/contents/17020/.0007.scavengerhunt',\n",
       " 'https://api.github.com/repos/ironhack-datalabs/scavenger/contents/15534/.0008.scavengerhunt',\n",
       " 'https://api.github.com/repos/ironhack-datalabs/scavenger/contents/97881/.0009.scavengerhunt',\n",
       " 'https://api.github.com/repos/ironhack-datalabs/scavenger/contents/47830/.0010.scavengerhunt',\n",
       " 'https://api.github.com/repos/ironhack-datalabs/scavenger/contents/50896/.0011.scavengerhunt',\n",
       " 'https://api.github.com/repos/ironhack-datalabs/scavenger/contents/15534/.0012.scavengerhunt',\n",
       " 'https://api.github.com/repos/ironhack-datalabs/scavenger/contents/89338/.0013.scavengerhunt',\n",
       " 'https://api.github.com/repos/ironhack-datalabs/scavenger/contents/49418/.0014.scavengerhunt',\n",
       " 'https://api.github.com/repos/ironhack-datalabs/scavenger/contents/91701/.0015.scavengerhunt',\n",
       " 'https://api.github.com/repos/ironhack-datalabs/scavenger/contents/47222/.0016.scavengerhunt',\n",
       " 'https://api.github.com/repos/ironhack-datalabs/scavenger/contents/70985/.0017.scavengerhunt',\n",
       " 'https://api.github.com/repos/ironhack-datalabs/scavenger/contents/45525/.0018.scavengerhunt',\n",
       " 'https://api.github.com/repos/ironhack-datalabs/scavenger/contents/70751/.0019.scavengerhunt',\n",
       " 'https://api.github.com/repos/ironhack-datalabs/scavenger/contents/55685/.0020.scavengerhunt',\n",
       " 'https://api.github.com/repos/ironhack-datalabs/scavenger/contents/30351/.0021.scavengerhunt',\n",
       " 'https://api.github.com/repos/ironhack-datalabs/scavenger/contents/40303/.0022.scavengerhunt',\n",
       " 'https://api.github.com/repos/ironhack-datalabs/scavenger/contents/55417/.0023.scavengerhunt',\n",
       " 'https://api.github.com/repos/ironhack-datalabs/scavenger/contents/47222/.0024.scavengerhunt']"
      ]
     },
     "execution_count": 41,
     "metadata": {},
     "output_type": "execute_result"
    }
   ],
   "source": [
    "#Primero ordenar los archivos\n",
    "definitiva = []\n",
    "\n",
    "comp = []\n",
    "for x in urls_archivos:\n",
    "    \n",
    "    comp.append('00'+x[75:77])\n",
    "comp = sorted(comp)\n",
    "comp\n",
    "for x in comp:\n",
    "    for i in urls_archivos:\n",
    "        if x in i:\n",
    "            definitiva.append(i)\n",
    "definitiva"
   ]
  },
  {
   "cell_type": "code",
   "execution_count": 29,
   "id": "dd081c25",
   "metadata": {},
   "outputs": [
    {
     "data": {
      "text/plain": [
       "['https://api.github.com/repos/ironhack-datalabs/scavenger/contents/15024/.0006.scavengerhunt',\n",
       " 'https://api.github.com/repos/ironhack-datalabs/scavenger/contents/15534/.0008.scavengerhunt',\n",
       " 'https://api.github.com/repos/ironhack-datalabs/scavenger/contents/15534/.0012.scavengerhunt',\n",
       " 'https://api.github.com/repos/ironhack-datalabs/scavenger/contents/17020/.0007.scavengerhunt',\n",
       " 'https://api.github.com/repos/ironhack-datalabs/scavenger/contents/30351/.0021.scavengerhunt',\n",
       " 'https://api.github.com/repos/ironhack-datalabs/scavenger/contents/40303/.0022.scavengerhunt',\n",
       " 'https://api.github.com/repos/ironhack-datalabs/scavenger/contents/44639/.0005.scavengerhunt',\n",
       " 'https://api.github.com/repos/ironhack-datalabs/scavenger/contents/45525/.0018.scavengerhunt',\n",
       " 'https://api.github.com/repos/ironhack-datalabs/scavenger/contents/47222/.0016.scavengerhunt',\n",
       " 'https://api.github.com/repos/ironhack-datalabs/scavenger/contents/47222/.0024.scavengerhunt',\n",
       " 'https://api.github.com/repos/ironhack-datalabs/scavenger/contents/47830/.0010.scavengerhunt',\n",
       " 'https://api.github.com/repos/ironhack-datalabs/scavenger/contents/49418/.0014.scavengerhunt',\n",
       " 'https://api.github.com/repos/ironhack-datalabs/scavenger/contents/50896/.0011.scavengerhunt',\n",
       " 'https://api.github.com/repos/ironhack-datalabs/scavenger/contents/55417/.0023.scavengerhunt',\n",
       " 'https://api.github.com/repos/ironhack-datalabs/scavenger/contents/55685/.0020.scavengerhunt',\n",
       " 'https://api.github.com/repos/ironhack-datalabs/scavenger/contents/60224/.0003.scavengerhunt',\n",
       " 'https://api.github.com/repos/ironhack-datalabs/scavenger/contents/68848/.0004.scavengerhunt',\n",
       " 'https://api.github.com/repos/ironhack-datalabs/scavenger/contents/70751/.0019.scavengerhunt',\n",
       " 'https://api.github.com/repos/ironhack-datalabs/scavenger/contents/70985/.0017.scavengerhunt',\n",
       " 'https://api.github.com/repos/ironhack-datalabs/scavenger/contents/88596/.0002.scavengerhunt',\n",
       " 'https://api.github.com/repos/ironhack-datalabs/scavenger/contents/89338/.0013.scavengerhunt',\n",
       " 'https://api.github.com/repos/ironhack-datalabs/scavenger/contents/91701/.0015.scavengerhunt',\n",
       " 'https://api.github.com/repos/ironhack-datalabs/scavenger/contents/97881/.0009.scavengerhunt',\n",
       " 'https://api.github.com/repos/ironhack-datalabs/scavenger/contents/98750/.0001.scavengerhunt']"
      ]
     },
     "execution_count": 29,
     "metadata": {},
     "output_type": "execute_result"
    }
   ],
   "source": [
    "for x in \n",
    "res_git=req.get(urls_archivos[0], headers=header)\n",
    "res_git\n",
    "for w in decode"
   ]
  },
  {
   "cell_type": "code",
   "execution_count": 48,
   "id": "908c6ab8",
   "metadata": {},
   "outputs": [],
   "source": [
    "lista_palabras = []\n",
    "\n",
    "for i in definitiva:\n",
    "    res_git=req.get(i, headers=header)\n",
    "    \n",
    "    deco = base64.b64decode(res_git.json()['content']) \n",
    "    lista_palabras.append(str(deco).split('\\\\')[0].split('\\'')[1])\n",
    "frase = ' '.join(lista_palabras)"
   ]
  },
  {
   "cell_type": "code",
   "execution_count": 49,
   "id": "d61152a1",
   "metadata": {},
   "outputs": [
    {
     "data": {
      "text/plain": [
       "'In data science, 80 percent of time spent is preparing data, 20 percent of time is spent complaining about the need to prepare data.'"
      ]
     },
     "execution_count": 49,
     "metadata": {},
     "output_type": "execute_result"
    }
   ],
   "source": [
    "frase"
   ]
  },
  {
   "cell_type": "code",
   "execution_count": null,
   "id": "ea477785",
   "metadata": {},
   "outputs": [],
   "source": []
  }
 ],
 "metadata": {
  "kernelspec": {
   "display_name": "Python 3 (ipykernel)",
   "language": "python",
   "name": "python3"
  },
  "language_info": {
   "codemirror_mode": {
    "name": "ipython",
    "version": 3
   },
   "file_extension": ".py",
   "mimetype": "text/x-python",
   "name": "python",
   "nbconvert_exporter": "python",
   "pygments_lexer": "ipython3",
   "version": "3.9.12"
  },
  "toc": {
   "base_numbering": 1,
   "nav_menu": {},
   "number_sections": true,
   "sideBar": true,
   "skip_h1_title": true,
   "title_cell": "Table of Contents",
   "title_sidebar": "Contents",
   "toc_cell": false,
   "toc_position": {},
   "toc_section_display": true,
   "toc_window_display": true
  }
 },
 "nbformat": 4,
 "nbformat_minor": 5
}
