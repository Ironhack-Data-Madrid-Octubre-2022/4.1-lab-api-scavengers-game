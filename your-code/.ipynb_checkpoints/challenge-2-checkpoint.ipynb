{
 "cells": [
  {
   "cell_type": "markdown",
   "id": "threaded-asbestos",
   "metadata": {},
   "source": [
    "# Challenge 2: Count Commits\n",
    "\n",
    "Count how many commits were made in the past week.\n",
    "\n",
    "Obtain all the commits made in the past week via API, which is a JSON array that contains multiple commit objects.\n",
    "\n",
    "Count how many commit objects are contained in the array."
   ]
  },
  {
   "cell_type": "markdown",
   "id": "norwegian-praise",
   "metadata": {},
   "source": [
    "⚠️ **Remember to limit your output before submission**."
   ]
  },
  {
   "cell_type": "code",
   "execution_count": 6,
   "id": "developing-printing",
   "metadata": {},
   "outputs": [],
   "source": [
    "import requests as req"
   ]
  },
  {
   "cell_type": "code",
   "execution_count": 7,
   "id": "73102121",
   "metadata": {},
   "outputs": [],
   "source": [
    "rep_prin = 'Ironhack-Data-Madrid-Octubre-2022/apuntes_clase'"
   ]
  },
  {
   "cell_type": "code",
   "execution_count": 8,
   "id": "46cb48da",
   "metadata": {},
   "outputs": [],
   "source": [
    "with open('../../pass_.txt', 'r') as file:\n",
    "    pass_ = file.read()"
   ]
  },
  {
   "cell_type": "code",
   "execution_count": 54,
   "id": "0948b0b1",
   "metadata": {},
   "outputs": [
    {
     "data": {
      "text/plain": [
       "<Response [200]>"
      ]
     },
     "execution_count": 54,
     "metadata": {},
     "output_type": "execute_result"
    }
   ],
   "source": [
    "url='https://api.github.com/'\n",
    "header={'Authorization': 'token ' + pass_}\n",
    "\n",
    "res_git=req.get(url, headers=header)\n",
    "\n",
    "res_git"
   ]
  },
  {
   "cell_type": "code",
   "execution_count": 55,
   "id": "6779f7bb",
   "metadata": {},
   "outputs": [
    {
     "data": {
      "text/plain": [
       "{'current_user_url': 'https://api.github.com/user',\n",
       " 'current_user_authorizations_html_url': 'https://github.com/settings/connections/applications{/client_id}',\n",
       " 'authorizations_url': 'https://api.github.com/authorizations',\n",
       " 'code_search_url': 'https://api.github.com/search/code?q={query}{&page,per_page,sort,order}',\n",
       " 'commit_search_url': 'https://api.github.com/search/commits?q={query}{&page,per_page,sort,order}',\n",
       " 'emails_url': 'https://api.github.com/user/emails',\n",
       " 'emojis_url': 'https://api.github.com/emojis',\n",
       " 'events_url': 'https://api.github.com/events',\n",
       " 'feeds_url': 'https://api.github.com/feeds',\n",
       " 'followers_url': 'https://api.github.com/user/followers',\n",
       " 'following_url': 'https://api.github.com/user/following{/target}',\n",
       " 'gists_url': 'https://api.github.com/gists{/gist_id}',\n",
       " 'hub_url': 'https://api.github.com/hub',\n",
       " 'issue_search_url': 'https://api.github.com/search/issues?q={query}{&page,per_page,sort,order}',\n",
       " 'issues_url': 'https://api.github.com/issues',\n",
       " 'keys_url': 'https://api.github.com/user/keys',\n",
       " 'label_search_url': 'https://api.github.com/search/labels?q={query}&repository_id={repository_id}{&page,per_page}',\n",
       " 'notifications_url': 'https://api.github.com/notifications',\n",
       " 'organization_url': 'https://api.github.com/orgs/{org}',\n",
       " 'organization_repositories_url': 'https://api.github.com/orgs/{org}/repos{?type,page,per_page,sort}',\n",
       " 'organization_teams_url': 'https://api.github.com/orgs/{org}/teams',\n",
       " 'public_gists_url': 'https://api.github.com/gists/public',\n",
       " 'rate_limit_url': 'https://api.github.com/rate_limit',\n",
       " 'repository_url': 'https://api.github.com/repos/{owner}/{repo}',\n",
       " 'repository_search_url': 'https://api.github.com/search/repositories?q={query}{&page,per_page,sort,order}',\n",
       " 'current_user_repositories_url': 'https://api.github.com/user/repos{?type,page,per_page,sort}',\n",
       " 'starred_url': 'https://api.github.com/user/starred{/owner}{/repo}',\n",
       " 'starred_gists_url': 'https://api.github.com/gists/starred',\n",
       " 'topic_search_url': 'https://api.github.com/search/topics?q={query}{&page,per_page}',\n",
       " 'user_url': 'https://api.github.com/users/{user}',\n",
       " 'user_organizations_url': 'https://api.github.com/user/orgs',\n",
       " 'user_repositories_url': 'https://api.github.com/users/{user}/repos{?type,page,per_page,sort}',\n",
       " 'user_search_url': 'https://api.github.com/search/users?q={query}{&page,per_page,sort,order}'}"
      ]
     },
     "execution_count": 55,
     "metadata": {},
     "output_type": "execute_result"
    }
   ],
   "source": [
    "res_git.json()"
   ]
  },
  {
   "cell_type": "code",
   "execution_count": 56,
   "id": "2ea117a5",
   "metadata": {},
   "outputs": [],
   "source": [
    "api = res_git.json()['repository_search_url']"
   ]
  },
  {
   "cell_type": "code",
   "execution_count": 57,
   "id": "17246222",
   "metadata": {},
   "outputs": [],
   "source": [
    "url_repo = ''\n",
    "for x in api:\n",
    "    if '{' in x:\n",
    "        break\n",
    "    else:\n",
    "        url_repo += x\n",
    "url_repo +=  rep_prin"
   ]
  },
  {
   "cell_type": "code",
   "execution_count": 58,
   "id": "669bcfe0",
   "metadata": {},
   "outputs": [
    {
     "data": {
      "text/plain": [
       "'https://api.github.com/search/repositories?q=Ironhack-Data-Madrid-Octubre-2022/apuntes_clase'"
      ]
     },
     "execution_count": 58,
     "metadata": {},
     "output_type": "execute_result"
    }
   ],
   "source": [
    "url_repo"
   ]
  },
  {
   "cell_type": "code",
   "execution_count": 66,
   "id": "36b0f680",
   "metadata": {},
   "outputs": [
    {
     "data": {
      "text/plain": [
       "<Response [200]>"
      ]
     },
     "execution_count": 66,
     "metadata": {},
     "output_type": "execute_result"
    }
   ],
   "source": [
    "res_git=req.get(url_repo, headers=header)\n",
    "\n",
    "res_git"
   ]
  },
  {
   "cell_type": "code",
   "execution_count": 67,
   "id": "27e37828",
   "metadata": {},
   "outputs": [
    {
     "data": {
      "text/plain": [
       "{'total_count': 1,\n",
       " 'incomplete_results': False,\n",
       " 'items': [{'id': 548914524,\n",
       "   'node_id': 'R_kgDOILfFXA',\n",
       "   'name': 'apuntes_clase',\n",
       "   'full_name': 'Ironhack-Data-Madrid-Octubre-2022/apuntes_clase',\n",
       "   'private': False,\n",
       "   'owner': {'login': 'Ironhack-Data-Madrid-Octubre-2022',\n",
       "    'id': 115468844,\n",
       "    'node_id': 'O_kgDOBuHqLA',\n",
       "    'avatar_url': 'https://avatars.githubusercontent.com/u/115468844?v=4',\n",
       "    'gravatar_id': '',\n",
       "    'url': 'https://api.github.com/users/Ironhack-Data-Madrid-Octubre-2022',\n",
       "    'html_url': 'https://github.com/Ironhack-Data-Madrid-Octubre-2022',\n",
       "    'followers_url': 'https://api.github.com/users/Ironhack-Data-Madrid-Octubre-2022/followers',\n",
       "    'following_url': 'https://api.github.com/users/Ironhack-Data-Madrid-Octubre-2022/following{/other_user}',\n",
       "    'gists_url': 'https://api.github.com/users/Ironhack-Data-Madrid-Octubre-2022/gists{/gist_id}',\n",
       "    'starred_url': 'https://api.github.com/users/Ironhack-Data-Madrid-Octubre-2022/starred{/owner}{/repo}',\n",
       "    'subscriptions_url': 'https://api.github.com/users/Ironhack-Data-Madrid-Octubre-2022/subscriptions',\n",
       "    'organizations_url': 'https://api.github.com/users/Ironhack-Data-Madrid-Octubre-2022/orgs',\n",
       "    'repos_url': 'https://api.github.com/users/Ironhack-Data-Madrid-Octubre-2022/repos',\n",
       "    'events_url': 'https://api.github.com/users/Ironhack-Data-Madrid-Octubre-2022/events{/privacy}',\n",
       "    'received_events_url': 'https://api.github.com/users/Ironhack-Data-Madrid-Octubre-2022/received_events',\n",
       "    'type': 'Organization',\n",
       "    'site_admin': False},\n",
       "   'html_url': 'https://github.com/Ironhack-Data-Madrid-Octubre-2022/apuntes_clase',\n",
       "   'description': 'Código de las clases',\n",
       "   'fork': False,\n",
       "   'url': 'https://api.github.com/repos/Ironhack-Data-Madrid-Octubre-2022/apuntes_clase',\n",
       "   'forks_url': 'https://api.github.com/repos/Ironhack-Data-Madrid-Octubre-2022/apuntes_clase/forks',\n",
       "   'keys_url': 'https://api.github.com/repos/Ironhack-Data-Madrid-Octubre-2022/apuntes_clase/keys{/key_id}',\n",
       "   'collaborators_url': 'https://api.github.com/repos/Ironhack-Data-Madrid-Octubre-2022/apuntes_clase/collaborators{/collaborator}',\n",
       "   'teams_url': 'https://api.github.com/repos/Ironhack-Data-Madrid-Octubre-2022/apuntes_clase/teams',\n",
       "   'hooks_url': 'https://api.github.com/repos/Ironhack-Data-Madrid-Octubre-2022/apuntes_clase/hooks',\n",
       "   'issue_events_url': 'https://api.github.com/repos/Ironhack-Data-Madrid-Octubre-2022/apuntes_clase/issues/events{/number}',\n",
       "   'events_url': 'https://api.github.com/repos/Ironhack-Data-Madrid-Octubre-2022/apuntes_clase/events',\n",
       "   'assignees_url': 'https://api.github.com/repos/Ironhack-Data-Madrid-Octubre-2022/apuntes_clase/assignees{/user}',\n",
       "   'branches_url': 'https://api.github.com/repos/Ironhack-Data-Madrid-Octubre-2022/apuntes_clase/branches{/branch}',\n",
       "   'tags_url': 'https://api.github.com/repos/Ironhack-Data-Madrid-Octubre-2022/apuntes_clase/tags',\n",
       "   'blobs_url': 'https://api.github.com/repos/Ironhack-Data-Madrid-Octubre-2022/apuntes_clase/git/blobs{/sha}',\n",
       "   'git_tags_url': 'https://api.github.com/repos/Ironhack-Data-Madrid-Octubre-2022/apuntes_clase/git/tags{/sha}',\n",
       "   'git_refs_url': 'https://api.github.com/repos/Ironhack-Data-Madrid-Octubre-2022/apuntes_clase/git/refs{/sha}',\n",
       "   'trees_url': 'https://api.github.com/repos/Ironhack-Data-Madrid-Octubre-2022/apuntes_clase/git/trees{/sha}',\n",
       "   'statuses_url': 'https://api.github.com/repos/Ironhack-Data-Madrid-Octubre-2022/apuntes_clase/statuses/{sha}',\n",
       "   'languages_url': 'https://api.github.com/repos/Ironhack-Data-Madrid-Octubre-2022/apuntes_clase/languages',\n",
       "   'stargazers_url': 'https://api.github.com/repos/Ironhack-Data-Madrid-Octubre-2022/apuntes_clase/stargazers',\n",
       "   'contributors_url': 'https://api.github.com/repos/Ironhack-Data-Madrid-Octubre-2022/apuntes_clase/contributors',\n",
       "   'subscribers_url': 'https://api.github.com/repos/Ironhack-Data-Madrid-Octubre-2022/apuntes_clase/subscribers',\n",
       "   'subscription_url': 'https://api.github.com/repos/Ironhack-Data-Madrid-Octubre-2022/apuntes_clase/subscription',\n",
       "   'commits_url': 'https://api.github.com/repos/Ironhack-Data-Madrid-Octubre-2022/apuntes_clase/commits{/sha}',\n",
       "   'git_commits_url': 'https://api.github.com/repos/Ironhack-Data-Madrid-Octubre-2022/apuntes_clase/git/commits{/sha}',\n",
       "   'comments_url': 'https://api.github.com/repos/Ironhack-Data-Madrid-Octubre-2022/apuntes_clase/comments{/number}',\n",
       "   'issue_comment_url': 'https://api.github.com/repos/Ironhack-Data-Madrid-Octubre-2022/apuntes_clase/issues/comments{/number}',\n",
       "   'contents_url': 'https://api.github.com/repos/Ironhack-Data-Madrid-Octubre-2022/apuntes_clase/contents/{+path}',\n",
       "   'compare_url': 'https://api.github.com/repos/Ironhack-Data-Madrid-Octubre-2022/apuntes_clase/compare/{base}...{head}',\n",
       "   'merges_url': 'https://api.github.com/repos/Ironhack-Data-Madrid-Octubre-2022/apuntes_clase/merges',\n",
       "   'archive_url': 'https://api.github.com/repos/Ironhack-Data-Madrid-Octubre-2022/apuntes_clase/{archive_format}{/ref}',\n",
       "   'downloads_url': 'https://api.github.com/repos/Ironhack-Data-Madrid-Octubre-2022/apuntes_clase/downloads',\n",
       "   'issues_url': 'https://api.github.com/repos/Ironhack-Data-Madrid-Octubre-2022/apuntes_clase/issues{/number}',\n",
       "   'pulls_url': 'https://api.github.com/repos/Ironhack-Data-Madrid-Octubre-2022/apuntes_clase/pulls{/number}',\n",
       "   'milestones_url': 'https://api.github.com/repos/Ironhack-Data-Madrid-Octubre-2022/apuntes_clase/milestones{/number}',\n",
       "   'notifications_url': 'https://api.github.com/repos/Ironhack-Data-Madrid-Octubre-2022/apuntes_clase/notifications{?since,all,participating}',\n",
       "   'labels_url': 'https://api.github.com/repos/Ironhack-Data-Madrid-Octubre-2022/apuntes_clase/labels{/name}',\n",
       "   'releases_url': 'https://api.github.com/repos/Ironhack-Data-Madrid-Octubre-2022/apuntes_clase/releases{/id}',\n",
       "   'deployments_url': 'https://api.github.com/repos/Ironhack-Data-Madrid-Octubre-2022/apuntes_clase/deployments',\n",
       "   'created_at': '2022-10-10T11:38:09Z',\n",
       "   'updated_at': '2022-10-17T07:53:40Z',\n",
       "   'pushed_at': '2022-11-07T11:13:43Z',\n",
       "   'git_url': 'git://github.com/Ironhack-Data-Madrid-Octubre-2022/apuntes_clase.git',\n",
       "   'ssh_url': 'git@github.com:Ironhack-Data-Madrid-Octubre-2022/apuntes_clase.git',\n",
       "   'clone_url': 'https://github.com/Ironhack-Data-Madrid-Octubre-2022/apuntes_clase.git',\n",
       "   'svn_url': 'https://github.com/Ironhack-Data-Madrid-Octubre-2022/apuntes_clase',\n",
       "   'homepage': None,\n",
       "   'size': 751856,\n",
       "   'stargazers_count': 0,\n",
       "   'watchers_count': 0,\n",
       "   'language': 'Jupyter Notebook',\n",
       "   'has_issues': True,\n",
       "   'has_projects': True,\n",
       "   'has_downloads': True,\n",
       "   'has_wiki': True,\n",
       "   'has_pages': False,\n",
       "   'forks_count': 21,\n",
       "   'mirror_url': None,\n",
       "   'archived': False,\n",
       "   'disabled': False,\n",
       "   'open_issues_count': 0,\n",
       "   'license': None,\n",
       "   'allow_forking': True,\n",
       "   'is_template': False,\n",
       "   'web_commit_signoff_required': False,\n",
       "   'topics': [],\n",
       "   'visibility': 'public',\n",
       "   'forks': 21,\n",
       "   'open_issues': 0,\n",
       "   'watchers': 0,\n",
       "   'default_branch': 'main',\n",
       "   'permissions': {'admin': False,\n",
       "    'maintain': False,\n",
       "    'push': False,\n",
       "    'triage': False,\n",
       "    'pull': True},\n",
       "   'score': 1.0}]}"
      ]
     },
     "execution_count": 67,
     "metadata": {},
     "output_type": "execute_result"
    }
   ],
   "source": [
    "res_git.json()"
   ]
  },
  {
   "cell_type": "code",
   "execution_count": 68,
   "id": "2075dda6",
   "metadata": {},
   "outputs": [
    {
     "data": {
      "text/plain": [
       "'https://api.github.com/repos/Ironhack-Data-Madrid-Octubre-2022/apuntes_clase/commits{/sha}'"
      ]
     },
     "execution_count": 68,
     "metadata": {},
     "output_type": "execute_result"
    }
   ],
   "source": [
    "url_commi = res_git.json()['items'][0]['commits_url']\n",
    "url_commi"
   ]
  },
  {
   "cell_type": "code",
   "execution_count": 69,
   "id": "428ec165",
   "metadata": {},
   "outputs": [
    {
     "data": {
      "text/plain": [
       "'https://api.github.com/repos/Ironhack-Data-Madrid-Octubre-2022/apuntes_clase/commits'"
      ]
     },
     "execution_count": 69,
     "metadata": {},
     "output_type": "execute_result"
    }
   ],
   "source": [
    "url_repo_com = ''\n",
    "for x in url_commi:\n",
    "    if '{' in x:\n",
    "        break\n",
    "    else:\n",
    "        url_repo_com += x\n",
    "url_repo_com"
   ]
  },
  {
   "cell_type": "code",
   "execution_count": 70,
   "id": "b6709dc3",
   "metadata": {},
   "outputs": [
    {
     "data": {
      "text/plain": [
       "<Response [200]>"
      ]
     },
     "execution_count": 70,
     "metadata": {},
     "output_type": "execute_result"
    }
   ],
   "source": [
    "res_git=req.get(url_repo_com, headers=header)\n",
    "\n",
    "res_git"
   ]
  },
  {
   "cell_type": "code",
   "execution_count": 104,
   "id": "d60ebfd3",
   "metadata": {},
   "outputs": [],
   "source": [
    "#Para ver la fecha actual\n",
    "from datetime import date\n",
    "from datetime import datetime\n",
    "from datetime import timedelta\n",
    "now = datetime.now()\n",
    "hace_una_semana = now - timedelta(days=7)\n",
    "format = hace_una_semana.strftime('%Y-%m-%d')"
   ]
  },
  {
   "cell_type": "code",
   "execution_count": 105,
   "id": "600af84b",
   "metadata": {},
   "outputs": [
    {
     "data": {
      "text/plain": [
       "16"
      ]
     },
     "execution_count": 105,
     "metadata": {},
     "output_type": "execute_result"
    }
   ],
   "source": [
    "import re\n",
    "cont = 0\n",
    "for x in range(len(res_git.json())):\n",
    "    fech = res_git.json()[x]['commit']['author']['date']\n",
    "    fecha = re.findall('\\d+-\\d+-\\d{2}', fech)[0]\n",
    "    if fecha > format:\n",
    "        cont += 1\n",
    "    \n",
    "cont"
   ]
  },
  {
   "cell_type": "code",
   "execution_count": null,
   "id": "creative-stable",
   "metadata": {},
   "outputs": [],
   "source": [
    "# Example: print(variable[:10]) "
   ]
  }
 ],
 "metadata": {
  "kernelspec": {
   "display_name": "Python 3 (ipykernel)",
   "language": "python",
   "name": "python3"
  },
  "language_info": {
   "codemirror_mode": {
    "name": "ipython",
    "version": 3
   },
   "file_extension": ".py",
   "mimetype": "text/x-python",
   "name": "python",
   "nbconvert_exporter": "python",
   "pygments_lexer": "ipython3",
   "version": "3.9.12"
  },
  "toc": {
   "base_numbering": 1,
   "nav_menu": {},
   "number_sections": true,
   "sideBar": true,
   "skip_h1_title": true,
   "title_cell": "Table of Contents",
   "title_sidebar": "Contents",
   "toc_cell": false,
   "toc_position": {
    "height": "calc(100% - 180px)",
    "left": "10px",
    "top": "150px",
    "width": "288px"
   },
   "toc_section_display": true,
   "toc_window_display": true
  }
 },
 "nbformat": 4,
 "nbformat_minor": 5
}
